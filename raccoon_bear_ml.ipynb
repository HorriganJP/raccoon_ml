{
  "nbformat": 4,
  "nbformat_minor": 0,
  "metadata": {
    "colab": {
      "name": "raccoon_bear_ml.ipynb",
      "provenance": []
    },
    "kernelspec": {
      "name": "python3",
      "display_name": "Python 3"
    },
    "language_info": {
      "name": "python"
    },
    "accelerator": "GPU",
    "widgets": {
      "application/vnd.jupyter.widget-state+json": {
        "e9c33e3b64654232be6b544b1de14a06": {
          "model_module": "@jupyter-widgets/controls",
          "model_name": "FileUploadModel",
          "state": {
            "_view_name": "FileUploadView",
            "_counter": 1,
            "style": "IPY_MODEL_7259718f74cb486783453d1d5b3e0668",
            "_dom_classes": [],
            "description": "Upload",
            "multiple": false,
            "_model_name": "FileUploadModel",
            "data": [
              null
            ],
            "button_style": "",
            "_view_module": "@jupyter-widgets/controls",
            "_model_module_version": "1.5.0",
            "accept": "",
            "_view_count": null,
            "disabled": false,
            "_view_module_version": "1.5.0",
            "error": "",
            "description_tooltip": null,
            "metadata": [
              {
                "name": "raccoon-1905528_1920.jpg",
                "type": "image/jpeg",
                "size": 396406,
                "lastModified": 1622734084200
              }
            ],
            "_model_module": "@jupyter-widgets/controls",
            "layout": "IPY_MODEL_d1d796221a194bfe8fa5ff279e1c4f42",
            "icon": "upload"
          }
        },
        "7259718f74cb486783453d1d5b3e0668": {
          "model_module": "@jupyter-widgets/controls",
          "model_name": "ButtonStyleModel",
          "state": {
            "_view_name": "StyleView",
            "_model_name": "ButtonStyleModel",
            "_view_module": "@jupyter-widgets/base",
            "_model_module_version": "1.5.0",
            "_view_count": null,
            "button_color": null,
            "font_weight": "",
            "_view_module_version": "1.2.0",
            "_model_module": "@jupyter-widgets/controls"
          }
        },
        "d1d796221a194bfe8fa5ff279e1c4f42": {
          "model_module": "@jupyter-widgets/base",
          "model_name": "LayoutModel",
          "state": {
            "_view_name": "LayoutView",
            "grid_template_rows": null,
            "right": null,
            "justify_content": null,
            "_view_module": "@jupyter-widgets/base",
            "overflow": null,
            "_model_module_version": "1.2.0",
            "_view_count": null,
            "flex_flow": null,
            "width": null,
            "min_width": null,
            "border": null,
            "align_items": null,
            "bottom": null,
            "_model_module": "@jupyter-widgets/base",
            "top": null,
            "grid_column": null,
            "overflow_y": null,
            "overflow_x": null,
            "grid_auto_flow": null,
            "grid_area": null,
            "grid_template_columns": null,
            "flex": null,
            "_model_name": "LayoutModel",
            "justify_items": null,
            "grid_row": null,
            "max_height": null,
            "align_content": null,
            "visibility": null,
            "align_self": null,
            "height": null,
            "min_height": null,
            "padding": null,
            "grid_auto_rows": null,
            "grid_gap": null,
            "max_width": null,
            "order": null,
            "_view_module_version": "1.2.0",
            "grid_template_areas": null,
            "object_position": null,
            "object_fit": null,
            "grid_auto_columns": null,
            "margin": null,
            "display": null,
            "left": null
          }
        },
        "3a3c06e4427a4f6d97a80855e7c1fb34": {
          "model_module": "@jupyter-widgets/output",
          "model_name": "OutputModel",
          "state": {
            "_view_name": "OutputView",
            "msg_id": "",
            "_dom_classes": [],
            "_model_name": "OutputModel",
            "outputs": [
              {
                "output_type": "display_data",
                "metadata": {
                  "tags": []
                },
                "image/png": "iVBORw0KGgoAAAANSUhEUgAAAIAAAABZCAIAAAB5bbt7AAAA5mVYSWZNTQAqAAAACAAEAQ8AAgAAAAYAAAA+ARAAAgAAAA4AAABEgpoABQAAAAEAAABSh2kABAAAAAEAAABaAAAAAENhbm9uAENhbm9uIEVPUyA3MEQAAAAAAQAAB9AAB4KaAAUAAAABAAAAsIKdAAUAAAABAAAAuIgnAAMAAAACA+gAAJADAAIAAAAUAAAAwJIJAAMAAAACABAAAJIKAAUAAAABAAAA1KQ0AAIAAAAKAAAA3AAAAAEAAAfQAAAAPwAAAAoyMDE0OjA3OjE5IDEyOjUzOjQ3AAAAAVQAAAABMTUwLTUwMG1tADYOpy4AAGRLSURBVHicJPxJz61peqWH3ffTvf27+72//vQnTkRkRmZky2SSrI4FqUSXhbIBTQwB9sRzDzz1v/DEggQDFiDZVskFW1U2C2SRVJHMJLPPiMiIE6f9+t03b//0HvBHLGBdwLUWfvHr/1rporK7hredMJ4At4Qb5IQyRhwqa41WADYIWUo507Q1qBDBI0cMgHhGfIghx5gAbX2paeMYAlCllXJa66JTK7AycnlGzxnNPHhKkDrnLTASIqEWGmM7bzyjCQHWmdZQBUAJI8g1Ilgnne3AOrSGk5SzASORB2u80q6U0FjUgmdBdBGKETpA1TipTKu8Bwy4YMxT20LduY10e/SG65CYCHxoEaS3gEYQR5AY5y1axlEQT0BZ6DyyOLiIyBgdtLbq7EabWpvWeWlgR1grWOZs6BRyHxMmGGecCO5S6plyXesaqffS7D0Y6rLQ9pj3lFjKgbKQsYQxxNp469ATZ21nvfeOec/BIwJBQhARHDqwmigAtOAtOI4BIvVgrbfeGwBvADmE3nujG2NK5H2gIUW0NkbCwGuCjBAg3ltnvfXOASIiWuGJ9dQDB4YcKRCLpPYgAYVjxHuJSIFQ4iMKjKAnHsF6i9Z55z2AJ+ARGfPeW9dZJxkwCoIjIYxYp6zvNFIgCM4AWoIcLXdOoA+8984DEvSA3qJHBIdA0FujnOHUefQWtAFLOCfImbGgkDiPANRTxNiDR2RAwBPUzlKQhFhHHCAzFry3YKRxlXElAgjPBYsYEovaMARmCSGskaXSkhCOnoD36NGCIwgOnPFOIKcEKTeEeout89Z7Z62mlFMijJcaaw/GEBUBBUTnrXNG+633JQ3OkMXMBRQyb5B47hGc885abz14zygl3gKiAw1EURoySg00HrbeNR5CwBCBMBQEAiAAqDzxYIl3hnruvLPWOWDWUeu9s4YKK/UBUFAIrAdKKAUiveucJJ5YaNFb8AAQUpcQzzRoC9qAsagRWeQZ9V4aaxwgEhAMiQZAsNYACBZQ4hhk4CVTQDw1wK0DAswDegQH1nnnwFvwCipwBByCNcbWHmpARyhFEiKhQMATDiwCwllrGkD0AB4YYxFQcJYSIECQUEIIJyio0NYrbbW2LQIlQLx11IPyXvnW+JZTQRE9UWgd+ha8Nb6wBDm/8JQyzIFQBOoA0VhnPVoH1hMkxjuHypHWYwsELBCL0mHl4OB9BJAGZCIwQmCOWOO1h8556qxmFojnWoG1xHgiHSgrDRRRZLVrtY+wpTELABEIIkHnnXPKeeWdJY5SFOgoAWegUtARRhAFWEq8Q2MsAqHcGiAUCRhQFrkFBgQ4ITlBF6MmnigvFDhvtANlvXMe0DPvwIOz3qMPiUHwFh1o1IjSsRC5RyKIN4DIaSxIwjzTjAsELlhKeWDBGAQg4D0CBQAgQAWJLHQESuc75x0hAXoEROq5tyBtaRjjjCBY5r01LYAF9FZvHAhGJwwDz8GhtmCQgHOAlgJ6Dc6CRNRIau8l8YjAABzBgCCxThMMCeTER4wQ5RoDABSdddZYDZY5ppUrDo2x1iN2LamrfW+gGQYBNe3OESuyKKCxZrnVoB1oB5oCZ8AFcuQMvdEetLfo0YH34AkQ9AbBUcIpUOKIR2W1trKklHuC1KLzIaMRd4QCA+I6V2jbGavBIqWcWAYOABE99eC0VdJ2LasZEmAxiAhRoCVgrfPWecIwVkCAQiCAK0QkDMB559FY4zRD6oAh8gCZA6OJVc4hAEOGzlLvKETGUOUbihSpc4QqbLXpHLHOagcL56jgU4oRQQBQHi0yzhinwJFQS6SG2vm9s23oWYDCowFgFCLnHcOcQ4ZILUrnUXUcGQAx1hPXECkNertZH8qDtJYj8Fa36oJGERCvnTabO5NGCUtgcs4NbSgzYcoCGjJklCAn1DukBkNLHRBPQXvjARyxDGhEQkKI9dJ5BKt0VyBjngVgLLHSgTfIPAFCUrDG+LazllnGDAcfkEBQZBSE8l2ju9Y0GhzjueDHjA0BlEdvnDX2IK1iLFSOeOtASe8McCEIEovgkWgtCQGKCACcxgCgwBhoCHEIDhxB8CHNAjeq3VI6z539h9BYkNprsADeKb+hECNNCWUEDIKiFCnnHBgSBmik18pJ8I55R5wD4jVqIAxdhj4ihDsEJa1S2iqhStCdDQLfHBpde2ONk7idS6mlVbwupe7w5JgWOxmkrpV2u9AKfNnm+ZFT2h+dhFQEYIFQAwIdsQQJc9wBACdIwIKlRBBgnHKkFA0apcFrAxWRFG0C1jndWScRAgaMICckc1opq4kLvRUWhKAJYcxT1FiUptirCjzmyYDyied9awvjrAFrbQmuYYY3njCjnPHoDQgiGKEEbAdaWeUMCViEiA4QiOAQWVTaVcaV1AUUU8bCHKbeeOP21lpPHBD0gNZJ8ByJtnZPfIKWUEqAeoLIEQgz3oMDB14iWg8KKadEKK2d0YAIgAy400Rq5Qh0UukWd1vTtWhaDLkzyteNIpQGPAqg1qpDQ5x0779aUAuyxvpdPRgPuDPU8MX7VnUQJrhtwy4jlNAgInFmReSNltQ74hl68IICAeIAHSFUIIsIotNgYOFcRxRSA96is1aDogwYDRAJgQB8TL0mIChy7xj6AAi1vq5huzG7QjYZTTj2kKSEZN4T75w3ztgOEVmnGhSRttQ4Bs7olggRUfCglZGtc16JSIPxVDlvHDIP1EIjXUFtIMBTEsY0BhhVprG61sgoagBvvLUWqBEIWpstZQHSmHFPqPdoLNGGIlrinAOwlACgBt95ExsHHlGwQClT7guQ6FpvrOWcq5Vebtqy0r0MmIfDWglBTy/GedKrtrqfxL1xb73f2sL2k165bBXteknWNm2CsVwHzaYrwLOI5+MwTH3eknigpG4CZJQheEPAIycevHVGehPRDJFCIL2iRh68cZRwo8GidtwjcQjovLNOg6fCJ9Sj82isl1aHlGmnJWhDgFIRkEhAzEBQ4IgJEO+o8FgTb5nqPHfcaeaMNbrzVntjnQetG7TWOpBOtq6g3GviDSXOO+mx85ZAQ3wTeMeBo02sTaWrLLFIHQIhnhiP1hEE6p02pqaCU6DG6ZYq8Mo67Q2zBgA6zpgnTjutjXUyctLboGwas7wx7ab0GkyrPfFJSoRzvrP7ChhXzPHdvI4gzqIkolVT2iDAjIWmsKNB3ITRF1+9++63vsV4VG/Lh6PpocVD1QqZXe6KJ8+GjXad5p5GklpOaRA415i4H4uQaO+VlRQsD3IPsbXCQ+Q0V1Yr5Tw1lBKBggAap6WujHXgkCB14JSW6CgH4RhnwaAXtZaKmDHmGQBaJ513GtAxTkmfGMO0ItRzZoTTrddWW+O1BQ/atAAWPXFUGw9W287UlnADzJDAs8SiNmiNLallzLLQpgYDw1pCCWNJ4AHAOk8sUAAGToIrvRHagwJFvSHOeeOYTdDHRm8tlyGlFCOvWNuwQgrrXbPtVreNUoJ6h07XFI+PkpMBU7VrKkQgvTi/v15XvTRgMQEw1kolpZLbQxlGDBG/fPXqw0ePeRAdNuvxeLK5fTO+OGOahpAk3K932pKU8MY3kI/sflOeXIC44IQzokHpg+PoOCEk/wdGQ8ooN9YCsZQABe+s18ooZaR3SEjAKUVOkFIknFIScDlMcgwc9UiJ98Yo3znvOtUZNEGYUCKYUdxaJNYzIIjUOeu0Jh4RgDBGOKchw0AQC6icbbR22gtOkoHj2jMmjUHbCJ9zFzFMtTXIGEUIGCXGSHTMU0AAaiwUgJz6HJUghAnHCMTeoLfeqpE0oqGKuaZeB0axzQaqyoB2DInq6jCKCeWmk6ubajzq9XhAAj/f7uu6TnmotL653Q57vSQOPAIB2FU1M/bx+cnd5rAtdudHJ4PxyOguShKnd2ezM9fZ0cnprpBGWiNZsd1qzxY3rZSAiehPckoZoHO2Axoy1rPEIXWUMRE6pTwCgrU1Ntpr8IrY1jow3jGaikAkIgtIDNgyAqEAD8YqbZyU1lGg4FFpq0GjUIiMGUO1Y4IiF555a1FbTQFpLJhlBBjSkDLBiGYhEYDSu857TyDwjFBhgbjOaa9rpAJ9bkzDmBAsItAhdh6tddY6hcxThkgdAPFSgI85jbjnSuumKpV3XZV3HYLnTWllDVrGqvCy6oKQJCELiLuYDbNsfHl7XdftTpogCifDAUG2222fz0bl4XB9f3N+cSK9J571omS+XgpCn8xmRdtoVRkVnx0f3y8W8/ndMB8cOnLH1tPBsFOJVc1tsYzC4eLqcv6+cqT/yR/0EBwT3jgJhHjOSBBRNIIQyoCAtd5b45VVQA2nNGSgjWHoAsJCFkSEcgBpamPWTXdNobYePTpBCJKQOARotWu5NYYA855Ip2hMRNyCa4EoYkOG3HPiqXeMeOKsd8QTQgghWrDwH9gORYTgvWjAy8bX1DrtEDFCSyhE6P+BwsEaT0BwKrgl4JmzgruUmRBMZAwUhTqUtmkUAN8s0baEIVfaGGN7cWpJkAqeZamUGh0h4Gaj8XIxPxR7TUgigkk/YwTbrpv2wqYLZGeyKF6Uq/V6VUnd1sVxz1IR/vrL9w+PK0boJ8+e/vlPf/7ZF7/85je/u1kvJ8MnznSOJNxHvWAc0OT15fXsLO+21KAKnUfKScwJRSfQIVBkDBBY6CxoZwApo8QLQ6hnUlLLBSJh1mBBrQJXOrnvdOVoKVgSUI/oCWUOgVDhvNWu44Qzh0gFsMAwYR2As4iRRzRAhAdvQYEF46jpnNZoneM0IOi11rppKApkBAg4ppVTQHhIEwaIDsAAWmAIjgJYBMMZjLQ01jjCiAINnoGi24UsK8+CjFAIhJvPO9M2QjBBkRHy4OxUK+/BRwHzDi6vb5zRnIrx6GhXHEptZFV69CwYtq0KiG/rOo5EmsSrzabXG0pUu1adjadTwt8v1q363Q++8+k3P/zo15/99vbdyycvvskQ8iCcLxc59RmlF+fn3pJqr5aXOoxy60w6wsCjJ8yKAMB45xAYx8DYBpFEImNCWCItadB7qjh6o33nnbKWASJHFmLcYuOZcr42RlGqEShljEJgfW29YSLggcCQe04D6yjn3hJtrAKPziBo4hCtN1ZZa5GQABAQGCVoVGnAEM4IJ4iOMAuACBQ9WmvROgCCXjF0nlEKzjrJXGIqlATCiCtnil1dyXqxKHtZRhkENLg465UH1U97cRB55+Ok50ODBA6bxWq9Xu8OSEjW63NKu641FpRU+2p7RNAY52mQhqGRnbGGBUIqncWRp1Sw4MWziyAIu6bctibkIu3nHvHm6u3RaABOc290VYcEzvuj+IlYbraHpZDc94iYTXLhmCNUUuooKt06jxHhFJERwUWGnHkk6ISDhqD2YJxVHUoNNqSZoGHME8DKetV0C9NdWUODMEXwAjkAOl8xwRhj0hOFLma6Bw4VFJ05WO1AhxRD5632GoFRKihl6AiAJegCYOAcs8xRYlB71A6ts6CtkcoI7wUPqLfeao+cU4GeeOIow7ay9d7FQa85gJSNJ1hXbpL0ir1MMz5MSR6FUdLXSnrVeWecNbozRiunTa2McS7Ps8kg//L1Vd00SPH2dnkymUit7pZ3p8cnIojHcSI7qYGgNQyN1fVokKs8aaUMBfvg2bPLt68ur96JgGdhwKhniG11EJTN0mCcPyw8vbxaKB8++yhCrdF3hDYGpPJWdxqJFsgBHcfAeCJNZQy1iEg1eANAnCbOe0I0w4DRiGEAmqMJW7MCxxiZeS6I9wwYcZoFTBDUTlmDIHwaOFStctKBpRxDR4wzRDlggoY0YIx5dNo0YA3jjLOAitSgN0Z7UAjEe6qlQksYR8IYWkYc8ZZ5ayhPtCPKGeNsVZnVfA5OaE2n6UywmJEg7Hb7xTbkAebceAoeKJj6cCib4lA02/3BaYfgtrv9Zrc/nU7SgC3mh+PzC0qJApgNc2+7VlZeDDmPe1GC4MvDoVNWrReMsW3RDEZOt7uAsyyJF4v77XafnZ0st+v9oYwWq+koG06mIh3GLT1s9vJQyoOVvoky7XmjTUUdo54r6RlzyLxyziHVyhmlEZFQQjFES8E5YzpNLVDhUVAXEEc99j1yRqRXC4QhR8oJA8dZzofaYis7C8pTwzz3PiRAkCElXpnGoHVEaEcZpUg8Uu1IR0zngNUYEZ447xtl0IAQhFNmaeAJMh4JEXJKdGd0azqtG2284aoT9QG8AU6Jls5LT0TS7/XbuowEZXma9Y/iNNayOezW4KzSinKe9uJWVrVz0rjRaNi0XSOl8/54NsvzLAxF13Xroo7TXsip51DUzW1dnQ6z2fGZSPq7zbw47JXURuknz1/cz68Gg+Gnw2PrbZhEfjvvtL65vx73H8l6n2V5sdmBbCkx7z9fhn1Hpp5mliIhyAKeBEi8by0aa1uwDoxzsvRcWsYpYYIGaKwxzmjPWAzYOcfABhTymMWCAedgXYc0Rs88BEyEqZfGysIgEOGMdZYwR52g4KED3xFiQpISSAky5SRQRxj13nvrpLPOKPBopKbWemQQcCZCdEzwWJBAIHKhqq4Eh6b1ANxa66U/bLskSgdZv4G6KPZtVTGKlGCW9kTIJqOh1TE6o6UEOGgNTMTIQymLXt7b7naHQzEeDXuDvtnuqDPeoulkHEdEcI60lc0wzWeTadvJZVnl1k8msy6LykoeWrnerE9OHszOz7/1vR/Fabye33/x8782f/+3gTXrbQXWGNVt70unrQXy9uvNxUWOHfZOIgw45SxgkQfrkSqn0VTgpVMNKI9GQcIxCJBGxHbEhYQmxAkLNfjYWsYgESLxaKz1zlOAfygrgilCJRWaCOu18pIBemfBO0fQoULUDBmjxFtrOmOMhAB4JABj7bVBRATqpPCOWIKGGrSOEYYIYLWVzngrO9WZtrCqY96AbJ1uvZQ6j6lg3Hhi2+ZutUnT+NHjZ9qTdrtlQPIsiuOwtMY7YnRHiLfGIid1dQgJL4FJY1prjfdS2aKS2ugw8pPhKBE0NJkH7KfRpB83XRuFKSVEcHF+1ttuD7c3l/1h/7s/+qO3719++bvfTo9OP/r+Hx6dP3r7y7+5ef92X6n9rnBSd5KwMKPI1jd1WQkgcRT5LtSWS/AuCkMLDJ1sdQ1GgkVKAtui45GnsQf0zgeYchp1bgGQMJ94HzhPwDslgUDAeQjEEcpZ45wBQEbQeW00GK+ltEiMox69c5xj5ACdbYyxpjMABDgKLozzEjDwmpIOuWMQcdpTYJW3iFobZZGB9eV235VquzX7DUx7Y44ki5Ms6nvw1HsADINgNh2HYRSHcdbvC4bb9fKzt1+1sgk43RcFoZRSul0tFrtDFIdJGOe9jDASUBqN+vuy8ABpmhLOuqqFiFERhgQp8bvtLs2y8Wh8c39TbDfemoAYQJIOxqvV6r/5b/7P19fvZydHn3z03e9854ef/rM/0f/+//v+6y+d851Rgom26ywT1JH9zR4pG2Q2zFhlK0/9oJdro+MIPQTGImWGsggJWm0NExbQOqON864iwAI/8j6nECJ4DbV2TUZzQQJHJHDCWqPAdZQhOqKM1cp675AIJMKC9Q6MA+qM99oY7ZwFh4wGhCfgnNXO2C4kOmCUsRA8oENvPOWAiK3aG606Y5erVncUTTS/3V+cTUeDASXMdPrudrnbHJQ2ed4Po7DrGre3URg4Z5Rz+7L13su2UUrHcYqMJ0nGRSAoQQZZljljG9nGQRwPYgTY7ndU0LZ15WJrjH7+5NxZdXlz0xkLRslmX7RaKfniyZPTo5Of/+InX3712WFXbJbbtpL7Yv/hs+ff+cf/GJz98vMvLQv6UZAF2V7xLOGhRi4N4T5gpK6BR2RTKWn9bBZJSR26dCCod8JFznpqNFJBMWDWj9gsDr+RjaeRONoV94vDLwtdKrQGm5CmlBmHmimnwZkAiEdmHNHOoycxD0SUagdKu7aV3tSOSCSEcB4IS7gmAlET7RpmOBDugRl0zmvjEIEqqZzV1mKz1+VGdSVTFfVWgXKHbZWQkCLRUqu63m1XvdGkPxiKgMmuMbK9WS3rrsrSFL29X28tYpqkYZgnWZyXdauUcw6AbtZbQiHO0qrupFKya7W1lOJoeOKMrSqzPZTHRxNPycsvfuuMFwJYECVJst9vKcU3b76+eX/vnCMDentz1yk1v7+8u33zn/3xn2gPf/4XfxFePJnm0XgUDVOh69ajFAELgeZJQIKokk56y1V8u9zlI9KVqakNi0FkrN3W1JtJ7yQQZ37fW9b1vd5fnOePnn7f+a7eLgmpHXbS7UFrRhRDj95y40PrmLHOeglWecq8CNCbQDtX28Z23lsgDALOIg2sVk401movuUXvuAfimScEKAFljPaFcpVqmOuIll5rGYlskIwE51HAY8brsl6udtq66WTU7/ec7Q6lDhnx3lvTHdaLptymWf9kNq6qSmuz3t7HSeysrasqSVLv3XQ6QU4pAe8L2bVABUXnHVLikygSgiFY3XW54NNeAkhF2te6Raeod+9efoHUGefRYbmvrbbeWyMb2ZRGHv749//43c3V/HYbC1bUtekS26nNbkUpm43HDDUJB5RRA+i5j6zO2OD66uCNzFM0dfHo4kOejTZLW7bzu9ufX1+/v729Pj45+j/+H/5PSe+YVn0GDThdyqXzKmQho4hAmVXOavDaUhBcCMoDoIxBIiIWxyC0VJxJLhzTnhkChjrNHGVAmQ/AUuM1J44x6gEQAIiwFoyvtRRhEFVCqU4y5tM4DBkjDr0DcD4IRBSlURShJ+3hULfeeqeUyXoTD4pQMr+7X203VlnOeKuk10ZrF+c0jmMRxW1TF11XFFVVtbPjI+otUK60Wx92m/XSO//0wWOpmm2lBr2Moo/jKE0GjBLv7ensJIqj3bo82DZVxnlijVa6XiwvN/dX/+k/+hd/+R9/tSxriqySfjw5iqeRNfbgI3m4f/h8vNnutbX7ciUYvXu93xVltd/mAp89fbQx5Iuf/ZW2br/d313drTYbD56Av7t9N0mHER+ANZ3bKjtv3aExKUN0gMZYVXfGGxtSTMNEBLEBi9Zyyl0KqGsppYNhKGIhCOKBaJ6SXkdtwuLUh9oUHiQBFjAmSS0dQ5MRgoAeUZydHsla6tYYKY1WVdEs18WuLBilo/EUQBO0IedFVwVBlIwH2vu2LqWspJZF2SmlGKVRFAyHOWER0uB6vibbQ9d0jJH5apvnPUCe5jlHp53Me0kcn1+/v3x/9e7iwUlO0vd3i5CQk5NpbzAyttluFqOT07OT4W69A+c9YLkvu65umzAMxZ/d/tJK109HQRSdz47Xu2I67g2y422pkji+f6tIkPRGQdVU69W82VZd2xlVUVs///RbX89vbr76u9bYw75sK3VYF/tDmWaBVW3bbpUJGOMizID4xs3RLzutGIJ1vjKukw6UMpwLcA6NFg68ww6dC4xK9U5uBYQ9NowoVVAXplQ2ooQLJgSNjKmlxcAHxII3znukJqdGEF5bxZuNYcjzKIlZhAhRynsWldOUMeVANnVXbnf7gvEw79sUET1UdSVVOx4MwPumVdpqSikSFoShAySgnDGDXuQtPDg5yvu9yWiSxIH34L2vDzsAfXo0Vc47Ijg1R6M8FOL67na73jx5cEKMKxk/mkxeR5dtWxdFEQSB8NQ7Wx2aru7+h3/7N994/ODBw+evyp1I+1eX76+syacX6/WdJ0GpdEiJ0SoMQgBaVYd2d//B89Of//Zni7JQ1h2KtmlM20rjoJNW6erpEx72I0klBkAZBjTkOkDtI4qMOGaMU9YapApM6yC2nVMmpz3uk3u7s6Hh4SAIdOsKoEAYB2OlawtjU5ZZ19ZOKzCAgTHUa4POMAu2CVxJoKUhCzwh1LCuaqRrAi4Y43ES9U0mlSLEEsR8epymvcVmW5Ttze2iLfeECSR80E9Pzh50sum6pm2NAyyKQ1k2zuGuKPyIPHj05OzsvKmKrmmsxs6axXx1f3PVS+OLs/NeEIRpvt9uuGrByhePL7b7g5YdpunhcHjx+Nnnn3+53VVV2TWNHA/TpBc68JxmTATbuvtk2L+9uRPKDUZjY0jT7t98/fr5hx+GaIqy2W5W1tqirBZ3V6fj6G9//Zv73V7EoVKuKDoA2hknpTTe9pLog+dP00m6V7cUGoBGu8q6xjgpCGNoPcjAKmmMBo+cBgbB+RZtTB0qJVvfDKL+IA3l4U0tr+Mocd4T4BQ1pWicaU2prA4w584RjV4FaJytTbkrbYcoYNDrJcBVY7RSccS9B1l1aZpH1ihjORda2yhOzgJBkRzqweKe101rHTTa9D2t6oZTSphV2jet1NYQYKPhIBuMsmwwmozPTy9urq9evfxd1dTO29nZeS/NkQseBIO0JzzMVcOEiKMgjwZW6fKwJlzkk0GcRIDgvdfGlVV7Os37edbvjeI0M8btDrs4T9vKvHr18vnjZ5wHswdPiqIMGdzPbzmw1uGby0sr69eXu9W+KNoOilYqe6ikMV6DE5ymSXA2y549P1k1L1u3y4iwrum6vW07NERBxzpZoQXmGLWWAkSUcgraSUka7hNifaeKloUhyymND90yVwOCIfWcoyaEEkwjzMQ/6J2ad5VuWmEaW2+6iCZhGiVB7ju3r3bGeWSiKcqIUWt9p+RkOvHgqkrGYXo4FK3q8kQkMY8iYr03xvaicLe51ko6LhhjIDWjMOjl1mNntWBON8XrLz5jLPBeWy2Lsg6zdBQlcSDCOGUUatWsdwswktAgjcKEBzd38y/f3mTZ6MN+7/z46O27e2JwNOxNpoPZMB0Ph4PRUd7LFqsdAnGqC8KwKOr5ctHPmiidFG17u9jc3S4eP37CPI+zVGHLmfjo4uR+cbdbLUrwN03XtgoQ8kyEg/Dpo7PBUdwVu8a2QBX62oIOYNDausEVq+sKnNVACKHCAQfkDgw4SQ0H7QGMbVu5AERvfSV3+0BnbAZOEABvHeUkE31H3FbO911NTKyk36z3q/U+CcXZUTbujcBAQYKyLBDBUdapzqhOdrppkiAIlG4YcVkvZcSDtxQx7/U8YlWUddUhRaOtRxOKKIkIEooeRsNhGCZlsa7LOQDvlG7qJk6yXpoLzo032/0qqHaEkrqSsq2t6Ub9XlGVLcPVanV7O6dBOT7uDbLs+cPzNAqPj/pBFHkShxwpMWDM4naRj07r5aY/OXv6wQeC8r//m79+9OE3i8O6nw+TPFfOChFOx8M1WOJlFgkcjwPfbt7OW2mcB8Fx0o8/enr63R9+7BIDiAS59V5QIqjgwQR4BiZmqpCdacNeHjIgzoNHRIaeadc2WBliGFJqays3TgNiWJQ1iJrzWFABxlOjKe2kaZfFHTFxaumhKVqjwfLttjH6iiqc5AMhSK/X65RFdD6MwEr0Hjk11sRJZqRB4hEcIKk6WdemrGRRtGkSAcE0z6tD8eXNq03ReEIn/fz69nY6OwoDYXQXcMEA0jiS1uS9jBAijd6ut4HgR+NJGIUhh2H/tOvqm6vL1b65nW80iEenx0mSHx+dxEl+KMo0jZMkaspW1+2yaMZH1LNg0O91++Kw3z98+AAZP3n6/Pr+PuGMcw7AOaVa12kc0enRfr1EwPFkOJ7mlieX8181jeWcJUnwg29/OLuYiDRwwgU6ooQCjRssGctn5LTXTplXbSNllPuAUWecdtZK02JNwFrGgLCI9CJURIUZoaPgMXeVMsozK3xgAQPPVFe3pvaOEkPqqvBOUkI7I5uqPdzv6+t2NMiQsTzvIQ2sV0bLUAB64FxkvX4aZ03Zrjbr3f7AuOhk0zaVU9J6uyt2WZY67a5uVz4Qg15mrfNGByK8ub6p2847mE4ngzQFxtpOGmnSXgrWMiS7Q6EdjIfDSZadHI0387ZFm1JvnTGUf/Di+be/9a3l4rYuZad84gQ61rRNV1RVaw9v7zghqN26rk7PHq5Wy8FwNBmNlsvlbn+YHo2yvFce9k3XnhyfRFHirCuKxSwUg8FkNO6ePjrbFyVY9cGz8950pqhNEuGcNFYhERLkwd5GWKXkgwBCFgQ+DWLppTc+JiGAlVIa4jyWgGhhTF1IKRBKI4oZCQUftlB3qNAgAeQ0YNQvy6VThjiCwHTTVVXdFHV1KLgT76/vNnsxnU6Ms5SH1qq2KTnzUZRwHmpP6aFpuyaKsulY3C+XRVU4QpRDIUTd6M32QAk7vjhO8v5quby6vM2TZDIJs4R1Ullt8342Go0JY8bYNEmECHabZTTpnQfjVkrZ7O9KV5Wbumm3B7Ur2n5v+K1PP/3Ot78fRAKQDob9sFPOWkb52dHZPtzhrtzVdrO8D0X8/MnjQ7E7efwhIHGdc1aLUFDKIoYGbRhGyMBYPZgMjG13+10+6D9+8pBRWK5XRbF/eHTqgRhwnT2ANwBgO9XYTQvvgcY1zXTrWZxMeiK+r27rto7iCMB3nTIeKDCNhgB1jkqrKYAnTDPXUAEwUs2GSoh4Ypi3WnvpqSRau4wGR8MRhy3IlsjUdo6Nh9p55xggkc2hLCrr9HCQEDBNXVRl8w+01kgViDiJEsYJFVym2XKxbMrao2ch5RTKovCEfPyNF+Vu00gzHg1jZXgUOgNaGdSq3+ulcVIcDk3beiSW0EjwXszB4fXN/e/e3/XzQTqZfvOTb/+TH/94PBlut+u0N3z2PJRtd9htjNFGyqOj6b7qHj887maTSISnJ7Nbop48PuaE/vlPftspRcCDt3Hgjp4c/+aLN7uNT7Oety6JEhfQupUiTJN0NCPsZDo+Pj1GYVTYbOWOoRbkhJKh1Z76Y+uKwq4YTNggPyu70htPLUMACU0pD7rDjAhOMkIi4xrLjCNchKmjXqPWwBwJKWjru7U8FPO6aSEiScrzhCZcUK6xb8O03b6/WhWtFJxbT8paMeomw0GnWqkU5aQ3GDEWNW1bFgfvibTm69dfJmlycnwaxyIOYeOlICwVIosigzR3SVs3URQhC9I8z5KedbAviv1+h95ZT4padlKJOA/DpGlK5VxEgjCA02m/qw7rqnvw5Hs//vEfDUcjJRvZVhT1aDiw1vOAElCH7SHrjb6bj9fbsqb7LMmmg+SbH/8+IItEmERivzucHI0ng+RoFERZ8uTJo7pRm6KOBPfEe+djEYowILPpbkP7cfTi42/0LkYLel9bjiCRjWnwOA0os6NO/7IxBwqUhRCv5L2IwzScpYRs2xVHpQ2SNhYicRQoOPBKWkEcR6cptZ45RZmECgAUlYa7/UptSzmJCUs4T9OTwSnEiko4LJZvvnrbAN+WxdFs/OzhI0rh9PjMW+O8yfO+90Fd311d3Yg0GQ1Hs+kUEaWUqj0g+iiJrHNlVUZxMhhli+Wu0zrgwWTQm40nddNV9d7IlqEVQjDmGacBSQihRnaTYS9LIt0WXVcrZeN8OMvY6fHxaDxO88xIinjEOPdEOGQQpqv790HIG9VwFkcBqg6SCLTTwKL+YHxz+cYTvzoUHzw5HUT06bOnGKbSX+5X6/V2R2MOXfHk9FhpnSRhYKGrIkqF83YQ5R79oqPr/b0zKstNmmQhHjP6xJhF17Vs29w6lP3xccTHZrXkHcuDLPE8xoxoIsEJjJzO9rrq3DxlYRBSwhyhtDa6ajuHDFH0U24tWe2L+Xw1ZPzB6Uma9UQYzU5m3wJ+sy2TVJyMB03TFvVhUx7Gox4npKgbRq1zJoqTThlr/fHpedfWi7srq/RqtWqkZhQJZ+vdRtsmivq7sljuyjDhZHWvrdVSB5wDOmdtK2uPAI6xIFbO7Xd72bYUrfNgkIRRQpk4nh3lac4DhhjEkDrEzb5S1jsUo+OHu5XwbZfkg4uHL8DJq8u3wLk2ZDqdVcXuq5d/qlWD3p1fTGaPnq93xYOLM62aKKZGNXkaRwmfpH1PRJL0ppOx1F1v0JdMNXK+Ld+td+91g2V3HQWpADpMwwGbHOw9q/wiTAchS4ub9f7NDRUkGiRxnHGgGiw6hi6JCY21q9TBBmBpZFTHwhDDoKw2ViF1YWhCHmWxDwq1vpuvi812Mhk3VdMaeXo2Gh1Pus4sN5v7zXY8GiZJpI2Lk4Qgsc6giE4vzrXsvIX3b98ITjihrarzfj/RqpNdJ3UtjbKuDyJJk+OjEyXl9lB3neQcojBiQKWFUIRplBFk3lmRhuBMcTgcDoVULojEqNc7nx5nWX+927PScOqNktvVcrE9aC+4iMOQnj14HjABhFmnh72zKOu//N0X/UE/SZOybFebEj1y5I8eP4v7MyHZZncYz46+l/WQBkbXSUCaVhrkGikTbDCa9XuzfjZhMXb060EPm21cm7rRN96ymvREkAsBzHmbpxnVsL7ZFncHSCgJkyCgGp30WjMCmvREOgo4tleMGmmbtoZcsCCJw/YgOwUd3s137X5rtKn2lVDuancwX1+naZqm8SzoccIJd71BDowqaTdFBegiij5IoihNk2DTyixOlDOb0jWHKk+iiwcnXhur26JrDpWOw4SFQRQmVITKdPti7wwCUAqkLJs8S6hgzmPXdUIwyhihnlAymvRDYRf3m/Vy77zPp2dhHAWCemcQAJCKIOJ42O/3PHJcjNebbUgNkqCtq69+u42SpCoOURg4Z43pAs4DFhhnmIg8ssury8X91bc++TTN+mXbtfXOqFr0MMmGDqlVbRayKErRkX4yPo3O7m8LF/R4DindMe2pEtpYAMKomDlPSFnnlNvRqGhaqCgNSIOHimhKB94ZE/Qck844Ag48cMvRGk4FQEw9qU1HCTusN12nBdDVvlpcL7M8L6v9fHf1ne/SHvMiTZN8mPcnsm6UVpxSyiLKQm1cHIZNKC6vL/vD3tGw1zRBLeVytfFWl408ngycbYuuTQg9lOvlarM9VFkWPbw4t9Y5Y0+PJoxgVdZIqBCibVtVFXmeSWWsc95glCQnQUQY1V2zWtx5J7NYNKatqsP19dXt/a3RoTQePQtCcX9/XdZNVRSL1TbkWBSHui7+5f/iT7brbae6qqtb3Vojt8vrP/vTf5sEyLw/PX8APG6aXb8/itJhJ42WbRaGcSySNGYBNZRi9ahb7pFyy3QopsQx3UacCc87xoK01d7KisRsHB51b68P92VbaIgr3wuDiDMC6LzWdeNVgIlTBrzpqi1NBxHNLIulLRjnL572t3dzWberw0EbxaNot9mPp7OABa3tUsYFoZRSGwgmBGeYpIMgjDxAkmT5YDQ5Ojocdt5pSgprlYEgYtnJWW+z2212NZLaGLPcHsp9PR5PJscjoKCarpfnTdfJVjHm0jBx1hKC/V5PGYNA27blhIcBCVJWS0PQvfrqtxRfyISrtrl69/b95fXNfLPat11r6qYDGlAiZFtn/fHpi3/213/5/94vr/6r//b/Pszoy9er7XJhlLy9W7x/9+qvf/n5/+X/+t8Nsmw6+/m0n/7w9793ejImFlabyhGC3gTTQRCNmYi44EJkqCvQWdVuus7QfCqAN9We5hAnjvnOiv5Q9bhnLrMiWS0vFwu9ISJ3JyLqBdF0NBnE6eV23ZiEkoCAs9B0eoWtFfS45RXnNs2CJI1CmeiUhXjx6jJyBEfT4Wg0/dtffi4Y/fgFXPAwcF576zyhlDuwcZaqpn376mXV1YyyUIg4S/NhNBj0N7vN/Xpzv37/6tWbupGj4dD41ljMsjzP491uLwLWz3qMC2V0lEScUuNMVZVIoG7KUETWEUaZMppQSPNB4L0DODo5t8pWtpGyNUYp2R2Kar0pi1ISQkVIhCBBGO+L3epn/64u5kDofLH79//hp5XCTVU4iutt8bOf/urf/Olf7Q+N9fG3/ukfv3/1+fLf/yQQLAqDFx88/eRbH2Vput3aMMCROLLWqlohUjbg5nBvtOr8cwsNCr+tuwpqhqpwmqW9iQqMLJfBMRy7Qb21nS08sQQ7A5byKBO9vT9wh5p2nrfadO2hSOPTh7Nz1leqVHbnBqdHXdsOsriRRlo4VPL1qzdS6byXVwrm2/LiKGAeFJgoG6TpQFu/3GzXm422ZjQYGOtfvnzz7ubKK1keDrPTE93Wk9Hk+YvRfLX2znlrDGMWPYv4MB8wzoD4JBKdbi0i5aw3SI3V1gRSOUrQWRtQRgD2RdF1DYuC+f2NG8/yPLTaWgMOGLCAYCdCpERwFlrj6navTbc/rJx1SRQKEXz56o4y4TwgYGv0X/701zfzLeNC6uLv/uZf95MRpVQpXZR6t/3F/Ob1x994/skn3yRkZkyDxhvv5+XlQn1NgioKpp1Ru+batJ7oIdWC9YVVhwPyPmXsQAo9qqdZRreprRvbM4yWRS2N06OoP8smrdzXujBtbcqc6khYNsgHSCzNiAbVQuMtRJPo+TNflPLdu2sPdjwaccq/+vLLKBDs2x9nWXx6fDodzuqmXF4ujHZxkt0v79lhv9mVr9697vX7cZKeHM2Oj48BdNO0n7967Z0TYTgdjuMkJ5RYpRrV5SKxoEH7PI4oD41W3qE1WqrGA69aJSgPkjAQxErpHdZ1g2Mggpd1g1Z79BR99A9rI8IAvHMGAZF4712eT9C7YZYQFux364B7iswT0Mp/8fbmdHrG+Ha731WrFVcesywME4KotFmsm9Hd8umDnZKtw8SCa9R+U33mTJWHzywb6sUaPOzKe7cuHpw/Y+HQdEusl4vWOC+cBR3EwZCHgUn2sN3JlTV+b2zAWT/mzFFJov2qMlXSp0NysJ2piQdGKXWsa6WxdjQYXBByODQMXdF1v7taZ/ng4uLR0WxkELUDbfVyfd+pTlsgwHa7RRwIY1zb1h99+NEnH35YFHvnbS27xXxzP1+EYZjmqVbWylaLRjbaWZWkSV3pKInCKLQEOlmZrquLCilJk/ywbyjB4agXhXFZFFZ7qRTlFNHLtu730yRMne42ScApERQlBcAICAFvw6CXpWMLlqHL85wiUW3tvBGEOW8RgbOkPzqiUcp5BIAOwFniHVLOgKJ1FgBrqdu2HkC/s9VBzsGWx/npsP/JuinClCDrWera2vuiZET4fBStt42t9H57ZZMy7Z9NxsOEaii7l6u5snpEo7IrBZJAhHJFi1WsS9K6SsfES29qyQhGLNht1qvdfrPf5mlcbA9N2xDTjkK2ORRhFFIeeHS93jBJ88n0yDu/2xavX71uG9Xr9ZHCp59+99GjJ/f3l2/fvW2k8gijfv/pkwcObN00q3LLOfWdLZt9kiRFqQIW8JBr58BZr1vrOidMnuSR4Ax7SJASyGI2nZw3TduUZRSnnXYIlLCgLDayPQQMkiTu9Y09dFIpra2UHedCiF5AGRIShQknkA2GxihiLWOMUxpkg7Q/JiJ1nnayo0gdgEVirKFgop6I0jQfjMI4sYjKFJW8r9u6lhvFe7t22YsH4+joNN6HScJKztqdmQymhpdFr3F81gINgkE2uiC4aLo7cMJ5FCyJxJSyuPM7tX+HoYkVKxfqN1+/7PezCFi9PXDilVJ1p3ujXhEyi4ywsDc7D4b4SCQXFxdBGKax6CWp4Gid7TptkFw8fuJNV1YF5zxPo5/97O9+8Zuf9dPs8dOnjJLbu/tGts47pVoCzqJupA3DQHa6kWo24UJQQKuMUraSRlrAQHBOmcg4JYwTmiaJdTYIRCjG3rs0i5Ql1WHXFFvrhYjiiwci6ufholnMd3UrNeKh2BaHfRymw/FQMIjAnA7HjZZt18RBFASCMR5RlIiMhwElXdt4IIIQQJ9E/OMPHr54ftrLAspNpTYL83q+f9n6dRjmlam1aSyGxNicxiXfL2vNmtJ1WcE4sdaMhy/A1ixJFfKm9a1VlHDivbbyoDbGad3qwwJ0RYnhNBSsH371eq4abduGaF23KgjFicGL42E6yB4dnQx29WLfAg+da5uqCFnfJUJEfQCPYE3bBZFIspEIksX8umuau/vbhw8e97JkezgURfX5F19MJpMo5EEA2/LQGwSd0mXRFWXb62XWWeUl9Q7RI8eQBpGIgyDQRnIgupUiTqtWaq05o8fTozhNVtvdYbsG4pO8V2x3iABeo5G9RPAHJ0XZ7nYlE0FbFg50xPEocpN+ui/1urAhCQlgLFgWQRKZotbWqLrag3dCRN6aKKJZFjlCwozxWHawd8rUcqFcgYiO5Z7wQfood46YXRyXVXJ7j0vmMFe2wSBEi2mcpja5a5Zv5Fsg70FAKGLV6Lreq91VjiFVfbOH8s68urutmy4Q1Cq7We2brhvE0X0poei2VTudDZ8fzYyqmnK5WGxH0+Os18uHw0E2iqMUvCeENO3BWUVJsD1st5tdcSidh6yXH00nb96+9xSroq5bfRYGg2H29t3rfMiR+O2mritFGA+E3RclFajDENFprXpZbzAcMwJZMpSSOI1JEKdRRFmQ5P0oCm9v76qq5SJgzO92y82+oBw9gAh5CNZLn04Hk/Gwrbvtdk+c/E//8FtPH8zAqq/fztUV9YCc0X4svvH8KO4l8dfrv/jpDgG1VaBNFPV6eXh+nM8maRRHhAPhDqGjVhIP3A8EDhwekITSzY2fg3MQkNHxkPHRSgrF9AXRrmsXGe/LurvbfUWi1zw+Bpihd4QGvWBq27balwzFw6NzVbyr1ttyJXux4KN0dfDWaGu01DbP031LbpdFU2+1c7084qj323lZzndpnMS9h+cv2lpeX99EgSjq4vLmNmAiEJEycjrs3dzdDXvZttgjg+PZ+PTkaLef5wMx7AfX94f5vGCMUu4DKWPJm0ppbTghaRxPp0fjUZ5FIREoNYYsReeYD9MwF3Gy2q6Y4FGadm3lVL3d7q3WjIiyOBglvTEhFTSg47SfPzlnLHrx9OmD4yzker++b6Scr2ttqAgjzptnHz0YT46evfAioH/xk18J0WOCZWnw8Hz69NHR0ckwzANnbdsVUix21V0rVZQ84Sxs1N3G7BOUPeHBWw+GU85k4znjUaYP23ZdaZU0tSvbsulWIp/yLBc1oRxZ5PNOE84P63UZkOSbzy6eHo3evb4F0yVBfLYPF9tD23Xbyh2K6ic//+XN9eDpo9OT87OMExGy3XbPGObDJAxT5WXVVgFl3jrGw2F//O7dG+PdJ89fKG12RaECsVit8ryX5nFZ7zn1/X6krd6uG9lpiEAELAyDupbIsE9iGvHhcNAfx70jkSYhJ8J54awInfCKSWkO62XXamRBEGIcBVVBesNxq9RmuZCVklISQdDZmNPjk2naG+W9o4+//UOv25hXImKbQ73Z/bZVVhD6/PsfPHj0wXB21lr+X0w+mD38m+1+DqAZs/1heDIZI3Obbh5opszOZ/tKda1JcpENSRza4+tyc5SeM68szq3bpjkweRDdwphp2T/taB13Luia+zBIqSb9YNYPelbWVkHX6piIwXF/lPb3a2s7dfbw4tnZxeXlpZbyeNx/Dpb98uXvLjeWCUD67vp+Ns2UqkIWeYf90SDPsywfgP6Hmy+fJAEiLdu26/ZxEownM2n0plgP8vx3X706OTsajwer1X1RbdOEhwHKyloHjBPnPKV8v6uynHMSEIA8DXtZmKXUC22Fs8ohEYJTb9Cg7ZzulNXGt01VVlJZ2XZ1W6nlZuWcqTsjCGmLhjCiAD2oNBs+/iA4lIckSmqJWX76u3d/r0mWjxIPftMiSwaNDyxP+0ej8fFU+4Jiw1MIUxnkmiaZM6ey3bRuH5PDqM/rbmhcuyyXaTA65i9IKfelZkNpRQvCMqBeFe3Nphpzlg5Wwlzw4QedXHNKtfe7YqeV9loY7zunbSGzIJs8nirpBRDwLoiT7WYrKN5cvfvog4dpli737ftVZSGojG+VDBPuHWGcU8GROGkbZ5nSDkTYNU3TlOcnDy4uuNLd7d397d16vlxmeTzp9/f7LXFaCMo4gidV4bS23nkEaJsuzyLBqWCsN0jHR5PRbJwOepT74tDZ9sDjIma90KeMZePhqArU2/dvF/OFJ8w4kG27KSrtfRKlSEjbFqp2Tum6LJeL6ywMduvloDftD8azUf43P//qV7+7//RH/5KASdL03eWbn3/+7pufjqVp7hf3ZXmTZTbIBMQsYNDCgVEdRj3nU2yHNJonyRy6wEjp8bb2Lg6P9+qrztvMDTyU3nbMHAqPrHWr7X3Cws7Kd0K8iPtqGIlNu75pNtr5Hoiy28cuQsobNF7t+tHQKb3f7xtp+v1Bmobb9Xq9OhzP+ifHx5reiCh58Og0TEiYxDzi1jLGgDJghHdSEcoYgV1X8yikQVjX7ee/++Ldu8vlZjsejT756KOy3EtZBSFJSeyd8h7X20Yqy7j4B4PPAwnDMI6j0ag3GObZYBCKpN038/frKBGzsMeDbBCeckjqRlX1zjrM88Fitdxsd4iEMR5jMBwOOh3L++ZQSaktgEtSagmsD/efffbXLz7+gQPz//h//ZuvX92+vbup95uT01MeDbyeP/nw05v7m9X9V0nU8J6zQu/1QYH3uiIlYxEb8v6Ixo2JpdozMQ/4XjbV8nqts5D08ogmIhga9NK+YUJnxtZhEQaJsMq03S2FU4x4RZVSyqradeLQ7BfrZS8Yk06FlPfCeK4WaK1HYjxHa9El/fFAO9hu1sZ705XS6vk9Y49H5iDHYay1CFwYAQghrOWr1brYb4f9fj4YrlaLr19+MV+sdvsiiqIXHz6uuup+PT87nhJmgOiyhlY5pS0iMkacszzgIuBZFg76vaPp0enRWZJDEh30QXnqpTHUB4zGta9Czz24IOBJHC/vFi9ffmWMpUxwRo+OJk1r19uNVlYqMxz126boDzPGWRiGb95+pqx98vjDu7vrl5//AhG9929f/5ZS1vuX/8nN3bv97jbPIRlOFGs6LFIEsG1i08jky3K/lNs4Cjs9ZoZLfkdYV5ZYt5qme2jZJBCT/IO1ksouGR3UAd9mpySOZZQQjhh2zVLtOsRhPkvL/bLYRTozK34nD4z7nJFVu94sN7JViMiYuDgaPXl4pqzRTl88eX5/czXK6X3dLortxPaihHris75woDqtulqt54fF7TLP+wDs669e3q4W1/P72/naE/z44+e9fLBa3FJCwlgo54wB42C9KI3ylFBCCGM8YCyOaD5Mp5PBeDyOQi7Zq0KuRPzo5CKXXb1v5ibwp+MXIYY0Ep0y+nYRCvLw4ny+2m53h71sgZIoiVQji33Ty3MqYJTmSZpaD2Xd1HV9+f4vPvv1r2ZjdnYx3m3rpu3iLJmO0kcPJ/P5l4M8jPMEmELmvCdSNbEluquabhMPj1QapjgJcXxo3x7WW22J1DJJJcAeyPTq9uUs/sY0+uRafc6aeXfL3036j4Qabbsl5E0yemlWRdEG/TjvJelyu+E5T0e9N798aRp4MB2MYhymyfW2WhdV05jLdzfz5XIyGT5+8izNsnw4GQ1zTasDcZbp5CgmzBknOQZWqc5gFMbj8Xi92Vdtu98fiqJM4uRo6ibD4bPHj5u2rdp6NMnDiLa1qxQYQ6pSaW05owCecN4fBBdnk4enJ0dHszilW/NGrg7r0oC7FNQOT3rQofXWeSScdlXXlA1FOjs+ieK4qmVT11k+4SJazJdK6f3mMJrmIuT9QaKMKXbtbl+2tTSd3e2LPI1Pj/tPHk/jKORCvHj64MnziyQOsizngm7azc6+DqLUG4yCqW7vV/N3IxYOHx0xh5nKqya5vzK2of3ZEVCjoI0G4uruan/zX7148M09K5kSY9OON/vKYXW47jpeffhpdHwk5xsoXF372nTuen1TbZr+mNsC0Mjx6PTZxfHu+fLV65vffH3/23dzFu+sg7S/4GEAoJIsPQ7jIaWpoEgdD0m7aRuFHLAs5WZRGanSJFmsVl9+/arfS2bTo0fnF9JKD/7V29dIXZJHNEj0oZatlo0mHtCD1CaJg4Dxo+ng9HR6NDjK8rwjbbEri3Xz9rDGBs/7yZDlURA5tKWsOAmk6oxRh7JwVsVJ8uTZo5PTk/vF8ur2TirVVu2hrLUzL0bHaT9bLXer5eGwr7pWOg/ovTdIGSGUX5xPjk5mxxfHvfEw7/VYQA09jKKB3o/rbpFEk7z/UUtkUhwVtTL3X40vHludPxk+3By1t/OV7RynqbKNNVhqQbpDuVp0lLMGyOPxH+3aly1pZSShzXbXEZmaJPX1dkcMTXxstQmRPZidd4ncrDZZEiRJHIbnzpP3izJJIm3ojvu1Kvz2KsyTlhoSEkEgjSOiWRCMar1TUpZyH4ez4SiJA77brfIk/tH3v8ejIIuiz19+leSDu8WiKA+PHk4QjHcga3vYtd4bFtBWdmEQcML6w+jxw9PhsDfsT8D5+c3Nzc2CZIp13Xal+8kAinhwNNZigMpXtvLG7g+7zXqR5v3Nels2pQbGGUuiKEtTk+sgopTZ/jRP83S12Fvji0PTNg2lzDnQxsymo8O+Knbl8xdPB6NhmAqeECf0sr5NWTYanaHU23Yzc3NBzIdPfv9g8Hb918XuMh88/eJqfnd3zRQZxyezZPqmufXGBBFPkeT54HzwlAX9STJ6/Orrv88D3o+ObuVCFXSz6bPTnWP3zbZPJJzPpiSz4IkPohQArJWysRaQ4o9/8OGon32xuMtOk83hwM+zw25jqMn6seeuMZUgw67rAB0XMRc5h7js1pv1nCF6zoGgM/rnv/jdtq4vovju5raX8EEv8wS0dIeiKXYFYZhFAQARgkdJ8OKjh2ePjx3xFg238a7YbNt936enk+OTi7DSvPKqdi2jYw0moIKGGKepCOLXL19JJYNAnFw8DDjvZNs59/b9+zjAj759PLs47irXdcY7H4ahd9A2jQcwGjup8zQF6qOeDmJOCXPWFsUeHLOBWsvbfV0r24CX+cknefZw5oV9Nb/f/ybK7xstj9LZi7Pfm87OaABpvbip3z47ORerOknT6OiI5fl5qequ4WV9+fH4h7PwxFrdVRit+mLmR/nx3f2C0/T8wfD+dqFM48Dt943W816WTManXddc9Zcn/fz+zf3phyfttuq2bToMg4Cm/R5jPW9we6jrVo/z1Hf0Zv66a1WW9Q+HfdUVWqqiqt6+vrx4cBa59vxoEMSUUGKtL6tqu92Xh5qHIkmiUAgu8Pg4P7oYDU76XWPv5Gq33JZ6ZycbX41C08Oxjy2nvLfmi6RGxgdVW/X4qGnaPEufPnmEiA5RhDFSGI+Hv/zlb6xq0+nw9MW01xtvbsu2M12jwPsoCoTgRVFJbdarbZKkSdRPwlmS5gToQS+oUAlNlbkpypdlO4/5rN2CqdercG+Ub7YM5dh0zYOTYaEDEUbJdHyw6172sNnrizyvh+XL67+dpo45UE2zzoLZupgvqs0xe1i7TVGtVR2FMs2HhAbJr16+/K1zCQRd2apKNnU9nfQDjicX5mTYs7xuWvXhhx+0Qbl4cz85OXr44ZG0u6ZqMzEYJ9PX9h5YXNVVW2ilsKna+fy+abUDTQi5ul3u9uU//UeDP3gx+8XrzaatQDEp7aFonHU0EA6wk45RnvWC48dZb5yJUbzvNp8vX03sKOGjg3/dRDuaP7+e//L4IgyyCevSYm2zPvLQoff94biqVMw4EkoY325X29XKGE0pmc5mTz98lIQjdFZLVx8qbSwlLIrDoqjDMDRGIaIglCAlNk7ZZN28nKuv4yg4H3zLuWww+FTTN+v135nm0Ot9erm99G07CI6DMHdN4NKW1F3Lfvru8G86awT94bA3CyFdrJbbw5bgz5hRTSv3w2ho1Pn1/CrI4mEWuWgkO8L3uNPVutm2jXr3xaJtDSPQtIaiGW0O3tkPGh1+8+FSH/al+c73oy9+cgXE9voJET4laVsdtNl/9dV6XiuLqGtrSgqaebAe/GazPj47bZuuLutnTy8m35Cb8c36c1TKIsX5fHs4VBSJoIwQUJ1K+8EHH50+fXp+dnpCQo6ZQe8e9i5MqOv28nJ5eSS+N5lEb+/ftIt+L3iesklM+5SBdJ2zhlhfF60lvu3atmlEEPUG4yCukZLJZEIcM8oKjs44Z32v32ecVlUjuBAiSOOwP+j3+iNOwzzLRXS+e/dW2uLe/7ZV/mg0mA4/6LZ1uy22xddbvzNNWa27OE5O+lE0jEcPKO3dH9Qidv/IynbV/I2gzyXhk5MfJbJh+27Vymr7TnKenveeBCCOH14ksXrz+r1UsK0PN+/37R4IMoJgnCvqDtA3VRdQ86Brvlq8ej1fD89mG9g2pZw+nIS56PY8FvEghVEy2S93Trmu7gIIBQ294M6ad1c3s9n4ZDj6xeWvp5PBo0cnTW+5DXrgOGesbVRRlHWlHp1Ntvti33UR8eePBk+fXhyPZ9R6aSvNZT8cG1Xftm/j3iiNr375m7/44Scf/fjR/475/OuXv6ZD14KMMAfPkzR+8PBR2zbWmfliflWV69UmTDPOYTTsx0maZokxRStkGMZRLBklRtvhaGiULovq9OT4wcXDKIzG01kQ8ghnJ/mD1i6SNC+KXdu+X28qJIOARpSugpRk53liByI24XDO9EUYPZfw9G71r1H9vKrVuH/Ui+qmOeQ5J51gy+JGeO32UoL7xne/7VoilWdBMBwfLe7uN8uDPqhiWYgwLetDWZQIhnjfKM1D73nzttRxGu3XhXHR2Yc5iQTE1DlU1IZBZCw/PR9dXy4384ah0WYPHq6ubheb9Q9+7ztFtZuOM0tJqzsniLGOeixL04BiQzx7kH7n2+lf/X+2pu3y8+wb334QBGyj7gFumAgOO3kkjtuiunj2Iw2udXe71eLlzVU0jo6PBsPndSqEalxG4jwfh0zISsGBVFXNaTAYTnuj0V/91X+8u7/97ve/8+STh1l/5FRQbbWIgjCMpDVAcDDodU3nnN/sDt/uDWbTKXhjjOrMqmGRkWkYTupCKdnGajQ7fqzzcjjRa/4/8khvV22l6Ch6vFzQdfUy6X2j2E3f3f6dYGjJ3vv4ZPaj/fJ2MiCsaYoginpHo8NuWcxXV9tCvtmc5ic0yfN+prvgsKzjRFSVul+vWtmej0cE3FLZIAvLwN82la2o1EASmz4J5UHRhCTpCMptuylq7Uaj8YOL8W5+3XVtmiaM8mbQ7/Vzo4yJgjDvLTdbEQEX1LXm7m5V1F04E/Gx+/DH3fz9dRrRLKFHT5In3zoOonJf2PXNKg/GyJMXpy++Ovzd2+tfJMMZZ+Pjs93tdX130715/3fT0cnv/eG/+PrXv1OtLnAnO5ayXsD5vK7CLDlO48X8fjYZZmnMMABJXVN0VgFgHCVJ5su6opzn2bDe3WS9XlMWN1fvX7z4KBv0KrntzDqOhAlPr+evV3f3cUIuN5cd33w8/MHrq7fh6KGWdL/effXu7a6ZmFKPILTtS9mJuhaH2nWHjl4syvl/uP9KfvDxGZNGI+NJCoPh6e26bDKMuxEq0Vn55noxv226VmpJFutd2zSU0V6SVHXpEWwillYzpLv7bnQ8QU1tinmXjPoTR0IXOAhjZ+vdoT3o7e39bbHXVLBQRLWSZV1/nD5DAzd398boKI0JD9qVXdxvy04e9QYff4fstsVf/ffts+OTiyeDD743CCMfTO4GItqv/e6wCtKoi+ZWX+n2ngTDP/nD//2X8/9xufj77dIHMOifPFo28131pq9nXuTj3gMv6XzxbrWat51C8AA4nozDQMxXRbGr414ExIIPwyBRdm+k7o8mjtAwyZRsJrOjUITW1HGSUuGK8n5f3ojBibUDpW7ilBtiHBiOQbUjDyf/ZeleTdPXZpK/v/3i2fHzrHdO0XxMPhWKj+MLHg07tww9NsG7crcnzHtOFIb79fyaD5unH1w8evRhLfxVsapMo3TbSNm27aGuWSjOZgPOjfKKh0z0qQPLSzLLk298kgAcHNWNEpgM6/WGCuEHlUsYE0k8DMOULVeb9aZYbtY31zfH08GLpw9vFotOaoJ2NIk4A62M0qZTundGWNz89X9fVBsT5vTik+H4JLYA640uqv3RA5KmzNm65NcF36Xj+qMXzx8++B6D0XhoVpvfRWHAYvbu8teeVqLX0sBL3Xk0SZyu5nec0PF4LFWzXG09kk5WlJNQjCMxAgIUoSlLRlkvT/M0SbLYWTMYDM8fPhoOB4QQSuK6ZG1ttvsvoiwUw6FjPI3HrdTvVssPnv74cLhpim1nqPfTh5MfeZJ/ffcf58u/L4sv4jCwcXP+9Dvn599hw+Tkg9nTB98jnIechyqq1/sVMdJu743rpFgPj/Wn33dp0imlD/UewMQhr4y63O3uD8V4FnakSxxxtRmeiv2hevvrgpK9Cfy23cvDhsiq6eR4NGSZS5NgkAjPUGulOzkd9Xv93s9++5vNbksJnJ70Z7OMU+8llFXXP4/Of9h9+ZN2+bUdDOPRNBodE0VMY2m9Prt9x6s2JaHwtBMhoa7X3hzv6/r/9+/+b7/8879lNASqNXPWKLK/miQmHGwomm05Z5w7b8/OHz374KMwTF6+/PpoMolFHHPeT1PBwm21B5SMkziOJ7NJL+t77QmQMAyF4FmWTWdnDuBq88X7u69QhUf5+Muv/nLSm8zLVRgwRtiy2n51+R9+9/VP3737OojiwehsNBjevC6aqzhRp/e3y9dff3Z3/9sv3/x3TnfXL7/4zReffXX/kuVJYrQFgMFjUcE83YpDHp99YLL8arHg4EU/La0jQuSrza5pNSFsdpKSgUVmOusnTwY2Kg616WUxxTa6YIf19UBK4/X+smj5Gz7k83cKqXh8PNrvKuDCIl5dz/MobJv25Lw/Ok1sX5LAdqaz6D7+cSqr4tVfKk780Wk/HgRWYsAS4ceUJwoOdgcro08fSxHELgr2Zftv/+pfX5DJwI9Xh8Dy+1V784mfWjrXkZDmQjgfhHEggvFkHEWxtebV1zfnpyfO+vly8eDRU8r5oVsZXwc8CsI4CAVSQikvDish+GQ8ZpQ6Zwm6WMTO6GxU7vdX5BCV652J1+Phxbu7v382G8dm3R8fHzBYFa+Rdkmki27tQHtuKYltPP/WNy7K3eh//stff/DgZjYFLnxT3rA4pKu7YsRDB03OcqKIo5+zo3mt+L4gxw+8fqtOk35VdLWpKGNpj0MKB9VRJb/93cdxSu/e2u9+/BEMWiA3ltR3b0u7ocvKp1PWNt3nv3mzfIcjMmq0K6wRgBpcQsiybT2YbET4iE6eU/DOGH30ODn/UHz2Z9F+tRtPBt/67rcnJ242SNbr+/n2V47rmDeDI2Pu6ST8HrL3bFzfvb0HADGbzU5OhN5Q2e52h1+8/nyWRsdxQ+FhLxkZ7aRu8kEmZXd5daW1fPHBR7/8xS9FFH7yrW/XXbFvryh6QkSSBEZKEmXgwXrrOzsdj0aDPjpnTUcZzgajXjLdHO+qDn7w6Q9urt8bJHl8st6uH0Qn99v7jFycpg+2+/ezcSIgml3YOC7m1eeLdaUhfDE7/sPv9qZHXXIsq5bj4puMUeOlpELQqI30TEf26IOiahu1+Kgz8+QkfBQ8bLTeFTU9CkePoDeiZeGqDaCLnz05uf1qPaJJYvyudD4eOqOHENZdY7Zd0u9vbvZ223DKl3ebrlOj/oAJdj9fLooVIfCNb50cP+6XSq635nTsLdrzH8Bo8JC5XRyszk6HvSktrRvHQbGXVauxEj7K3/7tdXAGXvwyE496qXZ46QxEmKzfrbqkGx/PjL1eF+vQzwZlIqzb83nkE0Kn3un16qatDlEQyrY9PT7+7e9+99Of/M3Hn7zIgnhdbjgAEzTP+/3+oG1r5w0jbHvYPXx4ng8TpOpQXyuvQ3dxkhx3WbZ5f+WdCkL94uRP/qe/+a9h9kXCn2RUNAVUNz52lQ94xI2jqpFm5idpwrbw6uE3K4eI3XGqxqPeY0LATiaZLJy8C+qtTR8olpZy2d++72Xwg9XX9ba5vjm8gVCTVK73UjscnOiPf3g0TtPuS2l2mmawKpTAB0pOwwCSk8M6Wu5X1f0vVs37Eip4+DwTgej3BzwJv/+9bzDiEVHE4uLbOZLasFWYOuL8+IiOLkgeP9/flSJgTac2zS0ZkcLoOOKosS7NN56++IOP/whrUdx4pW/fX20cQhRHJrEmh8WrqlqIPEnj0BFN5SFufBeJIePJZrvcHZaEmPOLh2mSHop9L+UPz06U7Lq6ORzK+epWW5em2XAyAIrbzSrkIk97qm16SRrHYWdLbTa75vJqf//y9btDcchd+Hz6jVF8lID80bMfdlqdnz3hmXg/f92Psdo19apevExXvzmfdv/4yck/77Zye9m2i8dYPVhv3H2xfbv9LUsjkyadSfOvf9EOzokYzcvWqVa04sDx+O29a+O7QRLbPV70+htdlYtQkGjvt2cXE7Wt84np5JjErHfU27VbQbveGf3NL4QO9MOzo7Az3fXSl/zB2XSRv+2PRTIt/sn/5sHVZwUAgwhraTmjeQKINs7I4SDWm6YoDuE0JIIO+HlvnFbzNvLDiRCpkDTL+6mILwe//fX6iRP3y9IYO+jNDBWdLeP+KOV0W+H54MOJO3v7/vJJdnJzeRNg2s+yVu1R0El/dnd925S7J998waJovS5Uq67qGxEQjpTwgFJuW+2cPTt90lZVP0kJ+Nn0eF1etVSFVpluE3gq6na3W7y5fR8/1frwPsmT08FH76+/ejj9xFKpTG0FiTw+Oz4Og1T5ydXt9esvTUXWpul/84Pv5LPtbb0uYcmub3ZPT5vNXkez7vgbuiDbEDPSjI7c+ZcvX33nj3/8p//+f4BOzYKjYMAG8fRmuyVerJv7MgvGg8CZlAVxPGha9R5IIbAJMnj6vFdf2x//0X/58cc/lLX57Df/82c3f/p7/Y9tqX75euNz9/1/8dB6Ie4I7TEz1HGyAiRK4mFBLv3vRmP4Z3/4TylXHV91lqtG3Xx98+Dk6fmzj16/uaru7quiDvLss1+5xljORJLTRq6JSVTYygDrHfXN4ZOPf/+zxc3X7389GrL1HT0ffwDEPT9/2jZ1V1fj0czyaPbBULVKcNqLMsMVCiOSQDBWqpYzdnQ0vb3Rm3VDA8YjwYM45QkdbE0Wvn7508yNfHtKDUsqBuKwa2gQ9O+6d2sp49PZ/Ms3/QeQpEMmzLL48nb+VRyMLRcfPf/uNJ9FIns0+IPb7X9r1Y712VF1Wa0W3bd/yFi2VQeAQy/gJxaU0y+jtPe//Vf//MtfXw4DO/30OEwGD9bTTsqP4Ds3b9Zf/ezu4smx7K9Cm9ZqH/XlMOkp3Dw/+3gRLr/a/Yflb77s98/KdMNneSUL1fgf/MG/3N7+krJu03huIOudSdgJvpXecx5Mxj6fiqN/1X/y8Vsl3d6blcwWu7uVXd7c3X/3KBE788XLLzEJTod5UbdI5EcPPszyo1/85s/YoTebpJfrwyQbfXf6/UNZH4q3nk1WxhvIL+/fjOM8ef4pMd6B09rRLtCZnx2dhgJ7mGz1PAnzqrGhCJ3bnp0cJ3HctS14jwjGOekOhcGr939XHW6LercMrr/x6Psu62v55nj84LPip6lZDnuTy8tfPZ5+SJ7sR0czLi5+/rM/fTg6/8MPP/7F118+OX3x0enz2+7l+8Pb5nV7PHzaVe8Zc5Lks08fRMdPvvzyvY3K4/s3VLOvQ92bkN5nf/nz//x/9V9cXLRN+FUWXoSG2aFMgooVZHM9TybN6CSFsDvK+F0jKHEC085uDv51sYHLt2ud/pZQ7JqGFP7b3z8bXgyiqqrM8tFwGmROnyfL+apPWUSZUhFBN33qiwOZr3Cs1xZaqU+slnfby6qTXriru88/fvD7k4sX2+otxHowDPW+LJbVy1f/89Hg/O56U0etIeZocnF2enF5fRXj0zwYrfeX6/XrYdQ7yb4P2kprkzjtT6am7MQ0ZP0ownQQiHK+49Y7D0HAT2eT/jjdVG+U3UZhgM7W+3uZHtbFVauXYDDc5/n5s/vD1at3P+tB/PThP8Gud9vdPZ2ex/2ru8Wvfu+Tkwb/fr/dUEH5JPPH0dRtR/ajQ7BSuHNXwZCLjDy7ZJ4FQ0n55egs3e737TIuXwkZ+NH4SeL6iQzG483eq/zi46RsynnNguHl4uZ0PNzqhRbB977/IWXBqihVEgwyejT4lJB1XQcsIuVev329fvLdZ5Oj4S/+6qfnk8mrl2CXK8Fv9sPdBMLxo/FnX37dXtrB9zJHO98M1Rsjx9D5dRDFtuUGrfKJkm3GkhINMUTL5bu7v/P9dpy71nZbaXphf3V9nU+DSSae//FoXsq6HM7Sx//TX/5p73H/4SfPDl/eHMprjID2w9apzWbpvD86Py3bw/RodqgrH3jTWBLjcrPOIuZdzihYq68vl1kSnD4cUJCJAB6Qtqu3xbrumk5JG9iq2PRzgcpra3aLm6k/ChkJPKbRqQt26zYfTb5/t/rti6PvhNlRWaj7d4ykc3W8TuM8e36UhnnkyfKwZ6sblx1z42ZX1+/D6jhIp72eSfzwtO2pNK8avShX4ZMP8MuHhb+9NTdPz16M0vzOXw/Pn8SQFc2lsXC/3g9ObLW+A93RcZBHRz/4wYNPvxO0fDMa2Y9f/HCrtsW7Hp9Mtvs74sbz21K5+WLLHn/wLDkplNsyEhGxsHVzMhy+vd+2hyAahlbH2u2TCQu2PJ8IRL99dVkyff5oBJ0ZRQlhiRisnj2NL7+Yz+8wOpIPjj4CXXW19perD//gAWuy13fOhOzq9np8NJTTouys13sEtx2gcEkwY8NoEAS2bA/FgcxSFgb00Gx9Usy9GkF0Pjy991+tdkdBTvo0W222VW2PJ7HTnpH400+/t73cLm8u31W3o5PplpbH44s4/va7+58H+JGra+kh6Nhu875dB1fm6uGDScRPoNGN7w53N8yPWKQzWlJ5++DZ8IUfuOA9/lr+RMvi5idXm+Ighr3cyztYzS6O9aZlRgV8uttwmZge7A/2ygXk5ChdOWfkYbmdZ4lnjqTj9GTwvCqqRbMXDbPBcX1bxWkyO2upbT7wL66/fkcr2stZyZOwPsQZxaBJHzm78hHBjKW6svFMtFWJxO+XDhuuKq1BknhiDmK9VA/H01k6vdre8Wbw+u9NcWOOH45xE+qgftf9+vn3f/gf/urfrf/0P/7Rn/wnH7jmb//izwQLA++X69tV1faj/sX0om43/V7OQi5C2rRrElLpZDIWWpXl6n0c+F6Wb7b7h+OTVbkeDkKi6Pz2/t3iLkujMJ+Nu4fGhLvqViR5cVfko7FrAppSWbcng9nUn/TYSdGP5uu37774HDLooJqchQRH8y/fCRI5ong0bOtb5kYmAArzQ9fugg/P62dc/85LshEXyYOMBBO9LxlWy8WO8A6SMpXcKLce8SOH2jDG2bipDQY1I+K2xGbHzlLh0uTS/lVR7hHzjvvU/l4/Z97r1Vc19KOKfjk4D9o5P4r2Sdju940Y+6ib1XcDB78+erSbzc72c6mkVaZi1D4YDZDnV+a1sYKU7vsfn8dHVpvhm59+EQ6BRPzVzy6/9YPZx38462S7eal6s3BT/F1ZHur57uq3L7/xo+8gwPXnr701N+/frJpGPHmR9/pHw+nOrPoqvVOvYozTLNa9ZiluCcpJMpuOkz/4+H/57/7233QpfXD0TYlLS9+kaXIaf/DFq18/efgcBepabusmtGoShoPTp9dXX4/js3FyGjL6tr2sr+QaPZdudn685zezOBhOJjmeZ+dPN417ffhlVfz8o/QbjGpvV+lddV/pbZp+3Zt9+8k3/+ndZ3/27J/1O6mL+3zyMIr4by7X+4fjiybSdVNULV3PX0PGUvo0HnzXBm+key9IPjCDk3ASqt3N3dchd7X1conjwbQVf9723gozTZ7FunHt5dhFjk2hnz6oWgl270zYF4PBAz5sA26a0rymKReCoLdA4NH3AlmSd3/FDwtyFgaU7acPG3nj3pYFel5F0H8YHX8kHLeFXMUPBiR3ttx/89npfHH/i5/9uRLdH/7on3zeRJurW+nUutmO5bZtm+ej57vFPbems4eEJDH2W9+07cGr7tnDhzfX7+blV+ePHt5uXn/6+Eev3+yBsucfnmvT/OynmVaMj/VpOjW0Le8rG9uQse2hkfevtvPtv5p9PBs93d8twdS3i4N9FEW7kct5U2ta3Se9c9Gnm93rIVPZKCVsuD2wrhHQcV0W7PDmRhZXvbNnN6/fXR5KM3owHH3CuyNjtl1QnTzL46OTsM9q1lvtd3vyvmp+d301Z26iGhlOttFRd7fZHV76z/6sLq4zte887Nv6BkwQpAE/0XxSzT7JMpaW+7ub+9/V3b1zx23ZPygZWhEyabjRSQRJpE1NqSNoGiP9Mtv+tk0RTn9k5OjL3U3LIv/pf/7Jgx98M+NBOLA0YrIrHgx+cDJ5alQ5zOTDF9AbnJRK/f2f/3Rz+eWz730wPD/55j//wT/9X/+jwZEx/ufGfJ4Ism9ugXnHmrPRsTT7MHT7fclj9/HpR8j9trv+8PRpHudHs7NS6avVYhyxH373Igz8dlWEGQ7yjDlrOnu4ejvr5aRzt/tX7+7efDT47iCd8dr0nyopawEn4+MXQdeP06Ne0n/7+U+g4lk0ZQmwLLpwY399df/BD3uO7u/fSrXesOEjAw9Qj2iavL15Y82NoOW8Xuvqrm7ZdJD6XT0cpTSdv5//Pz0OV9vw4kEsOGvqbpYMuns9mEaz/39B8LrbNhUAANj2Ob7GduzEuadp025t127VBtu6CQk0IX4hxLPxi1fgBYYEEmIIpLGNaVpv6T1tmsSJ7diO7/bxhe/rUqZJQbEE8nXdDPTzhdxfK5XXGBCSoJC5ekE6OUKk2LxzbqsSrRVB4kDJIRu1+3pig/ASEhoOMGeYHv46TFHmWtFMIx48frq4Xtiy2ZTlrrRCSpiHaRh7U2FelfkdEGsU3ji6HGsDzjDye70uwKFhnCjdlYffPOfqVRJ5R8eLpZ/liIGpfxMdrkuv/MhqNNboeZGQGkNSOEReUhRuwGReoyuN9L8XXppmJgiBOl5ub3OECNe7+2o0VsNxuQmbUlV3TF93uArBifVzc9B0VYLA8TbJVPzlbZq0TTMISErIlEpYUh7tf//m9OdpMpH9KkzCKAgWBBtOzViuCQTDG85YELiYLFVKZVv9b26PWs0ViM2LTL8zKjPtht5u2ZNFRZRtO8mKcOVh5nmLgAxI2MyRaWEatm5xcb0pt1gOT2yMlRU3nH0+sp6w7SonRhaDQZInnMlymoqswvllnMos34xmjmWBYDvzLqaOESYhbIIsK2od7tkPzPvXToYzTbatgF2+FxcFMRoaRcuGIsanEssKsthPYm94dX59PVInxKpYABLvCF0jGfoQ6nMV5QHwlOoiMyduQLgnmHH88RJseOXSJVZAWI6+2nj1l/YLYEBXWDk2LqBAdqr1JA9G5oHr0GIDFwS90SuNhlmNFBvllQv/DGfgemvPmC/tfNDf6ixD2hrPeLmY2IO4yMmmli8UwIhmrPWltu3ES12nSdLy7EohOlFmqggGtNp/sreO0YOzf9R5IpXJQlWwCOnO1XD4QaE2UkI6/3yASG91P6frKUW1HeRVOiLEpTiyUZFGiEoTmcCRUSwEik58Vi71PDdULa1IwsiHt+MpRhEb1Wauo0jB+WonaxnBJAPM88vpCbcz9V0vQjzCotSi0lolRimGCjyfkzBnM4op2Fq5Dl+WLS9wx95tdvLo2YuDw1NTvXt67+uVxiYGvv3t008Re3V0MFQqDcv1njzYrmGCtCdO3Cy3I5HDU3CQ85Plkg/iVaVHCXLZdUefrw63JeHK+lDn1+w09AG3Wt7FmZAvCd0taTAfbHX2L97OCoYoYyIBl7ZVSQt6vbXO89U//nwDe3pSRCkeGta4WX9MYWKJO6N6SowcH82qTbavdNQrPiMmpQakAKzwXISM0/P3BbbIoENlkihkcDZeIt2YBXclmfC1hTof5YgRCEGSO2vSSwZS+vxs88UjbWzZ1h0pJTRduzxGQuI1duk2WzN9XqLraYQDnFmg2dQP23gncjRcCMlsn6N8Lb+rJ6m2jADK2kLj3e+vKUYAvNu8fz9IEB2B6VEMEOAYHUCf9sRseO7ggR751TLG0mRqobjIBHb7ux/3RmevB59UDc0mdwMuDyTRiyPrw9nRiriV3FWZNfrF6pc6aXunIZkAC2lhDeRSLPJKGN20uX6M5I8Xb3d2RAoTKKEYz5zNb7qrLYoUqCTNTOLIDBXfiEtAELdaqQNDjMIyyV/e9FpKT9ibU2CZhdfXwcYXW0Zx4tvq7mY7Cm4XpsezeHu1f/DulBOFSqPkBGkqY7ioR0a/1V3zbxIW4lPr3yrbclxVErZODZMgEchJ11z9H1PqVaj1qqIVAAAAAElFTkSuQmCC\n",
                "text/plain": "<PIL.Image.Image image mode=RGB size=128x89 at 0x7F4658A44F50>"
              }
            ],
            "_view_module": "@jupyter-widgets/output",
            "_model_module_version": "1.0.0",
            "_view_count": null,
            "_view_module_version": "1.0.0",
            "layout": "IPY_MODEL_890da8b5e8d6440cb3844d121eff95ba",
            "_model_module": "@jupyter-widgets/output"
          }
        },
        "890da8b5e8d6440cb3844d121eff95ba": {
          "model_module": "@jupyter-widgets/base",
          "model_name": "LayoutModel",
          "state": {
            "_view_name": "LayoutView",
            "grid_template_rows": null,
            "right": null,
            "justify_content": null,
            "_view_module": "@jupyter-widgets/base",
            "overflow": null,
            "_model_module_version": "1.2.0",
            "_view_count": null,
            "flex_flow": null,
            "width": null,
            "min_width": null,
            "border": null,
            "align_items": null,
            "bottom": null,
            "_model_module": "@jupyter-widgets/base",
            "top": null,
            "grid_column": null,
            "overflow_y": null,
            "overflow_x": null,
            "grid_auto_flow": null,
            "grid_area": null,
            "grid_template_columns": null,
            "flex": null,
            "_model_name": "LayoutModel",
            "justify_items": null,
            "grid_row": null,
            "max_height": null,
            "align_content": null,
            "visibility": null,
            "align_self": null,
            "height": null,
            "min_height": null,
            "padding": null,
            "grid_auto_rows": null,
            "grid_gap": null,
            "max_width": null,
            "order": null,
            "_view_module_version": "1.2.0",
            "grid_template_areas": null,
            "object_position": null,
            "object_fit": null,
            "grid_auto_columns": null,
            "margin": null,
            "display": null,
            "left": null
          }
        },
        "7dd3c5a32b8e4a949c715aea4a480aca": {
          "model_module": "@jupyter-widgets/controls",
          "model_name": "LabelModel",
          "state": {
            "_view_name": "LabelView",
            "style": "IPY_MODEL_1a556654c1ee4bc79919846314e92b84",
            "_dom_classes": [],
            "description": "",
            "_model_name": "LabelModel",
            "placeholder": "​",
            "_view_module": "@jupyter-widgets/controls",
            "_model_module_version": "1.5.0",
            "value": "Prediction: raccoon; Probability: 0.9996",
            "_view_count": null,
            "_view_module_version": "1.5.0",
            "description_tooltip": null,
            "_model_module": "@jupyter-widgets/controls",
            "layout": "IPY_MODEL_bd5adaf5c02b4564a7282ef9b9035d30"
          }
        },
        "1a556654c1ee4bc79919846314e92b84": {
          "model_module": "@jupyter-widgets/controls",
          "model_name": "DescriptionStyleModel",
          "state": {
            "_view_name": "StyleView",
            "_model_name": "DescriptionStyleModel",
            "description_width": "",
            "_view_module": "@jupyter-widgets/base",
            "_model_module_version": "1.5.0",
            "_view_count": null,
            "_view_module_version": "1.2.0",
            "_model_module": "@jupyter-widgets/controls"
          }
        },
        "bd5adaf5c02b4564a7282ef9b9035d30": {
          "model_module": "@jupyter-widgets/base",
          "model_name": "LayoutModel",
          "state": {
            "_view_name": "LayoutView",
            "grid_template_rows": null,
            "right": null,
            "justify_content": null,
            "_view_module": "@jupyter-widgets/base",
            "overflow": null,
            "_model_module_version": "1.2.0",
            "_view_count": null,
            "flex_flow": null,
            "width": null,
            "min_width": null,
            "border": null,
            "align_items": null,
            "bottom": null,
            "_model_module": "@jupyter-widgets/base",
            "top": null,
            "grid_column": null,
            "overflow_y": null,
            "overflow_x": null,
            "grid_auto_flow": null,
            "grid_area": null,
            "grid_template_columns": null,
            "flex": null,
            "_model_name": "LayoutModel",
            "justify_items": null,
            "grid_row": null,
            "max_height": null,
            "align_content": null,
            "visibility": null,
            "align_self": null,
            "height": null,
            "min_height": null,
            "padding": null,
            "grid_auto_rows": null,
            "grid_gap": null,
            "max_width": null,
            "order": null,
            "_view_module_version": "1.2.0",
            "grid_template_areas": null,
            "object_position": null,
            "object_fit": null,
            "grid_auto_columns": null,
            "margin": null,
            "display": null,
            "left": null
          }
        },
        "77a9428a7b5548a29a853ff48caab61a": {
          "model_module": "@jupyter-widgets/controls",
          "model_name": "ButtonModel",
          "state": {
            "_view_name": "ButtonView",
            "style": "IPY_MODEL_ea0b5e6f136f4ac7bea0ae626a85efb6",
            "_dom_classes": [],
            "description": "Classify",
            "_model_name": "ButtonModel",
            "button_style": "",
            "_view_module": "@jupyter-widgets/controls",
            "_model_module_version": "1.5.0",
            "tooltip": "",
            "_view_count": null,
            "disabled": false,
            "_view_module_version": "1.5.0",
            "layout": "IPY_MODEL_16cfb4bce91042508e1f0ee231d1d628",
            "_model_module": "@jupyter-widgets/controls",
            "icon": ""
          }
        },
        "ea0b5e6f136f4ac7bea0ae626a85efb6": {
          "model_module": "@jupyter-widgets/controls",
          "model_name": "ButtonStyleModel",
          "state": {
            "_view_name": "StyleView",
            "_model_name": "ButtonStyleModel",
            "_view_module": "@jupyter-widgets/base",
            "_model_module_version": "1.5.0",
            "_view_count": null,
            "button_color": null,
            "font_weight": "",
            "_view_module_version": "1.2.0",
            "_model_module": "@jupyter-widgets/controls"
          }
        },
        "16cfb4bce91042508e1f0ee231d1d628": {
          "model_module": "@jupyter-widgets/base",
          "model_name": "LayoutModel",
          "state": {
            "_view_name": "LayoutView",
            "grid_template_rows": null,
            "right": null,
            "justify_content": null,
            "_view_module": "@jupyter-widgets/base",
            "overflow": null,
            "_model_module_version": "1.2.0",
            "_view_count": null,
            "flex_flow": null,
            "width": null,
            "min_width": null,
            "border": null,
            "align_items": null,
            "bottom": null,
            "_model_module": "@jupyter-widgets/base",
            "top": null,
            "grid_column": null,
            "overflow_y": null,
            "overflow_x": null,
            "grid_auto_flow": null,
            "grid_area": null,
            "grid_template_columns": null,
            "flex": null,
            "_model_name": "LayoutModel",
            "justify_items": null,
            "grid_row": null,
            "max_height": null,
            "align_content": null,
            "visibility": null,
            "align_self": null,
            "height": null,
            "min_height": null,
            "padding": null,
            "grid_auto_rows": null,
            "grid_gap": null,
            "max_width": null,
            "order": null,
            "_view_module_version": "1.2.0",
            "grid_template_areas": null,
            "object_position": null,
            "object_fit": null,
            "grid_auto_columns": null,
            "margin": null,
            "display": null,
            "left": null
          }
        },
        "0a2b56fa78d94a4d995fe677698ab57c": {
          "model_module": "@jupyter-widgets/controls",
          "model_name": "VBoxModel",
          "state": {
            "_view_name": "VBoxView",
            "_dom_classes": [],
            "_model_name": "VBoxModel",
            "_view_module": "@jupyter-widgets/controls",
            "_model_module_version": "1.5.0",
            "_view_count": null,
            "_view_module_version": "1.5.0",
            "box_style": "",
            "layout": "IPY_MODEL_56c74727274d40e59b96d9e98ef57181",
            "_model_module": "@jupyter-widgets/controls",
            "children": [
              "IPY_MODEL_84188eb9b22c445581ea2e45d656da73",
              "IPY_MODEL_4d4cf1b692ec443999ea4af9b0ceec5d",
              "IPY_MODEL_77a9428a7b5548a29a853ff48caab61a",
              "IPY_MODEL_3a3c06e4427a4f6d97a80855e7c1fb34",
              "IPY_MODEL_7dd3c5a32b8e4a949c715aea4a480aca"
            ]
          }
        },
        "56c74727274d40e59b96d9e98ef57181": {
          "model_module": "@jupyter-widgets/base",
          "model_name": "LayoutModel",
          "state": {
            "_view_name": "LayoutView",
            "grid_template_rows": null,
            "right": null,
            "justify_content": null,
            "_view_module": "@jupyter-widgets/base",
            "overflow": null,
            "_model_module_version": "1.2.0",
            "_view_count": null,
            "flex_flow": null,
            "width": null,
            "min_width": null,
            "border": null,
            "align_items": null,
            "bottom": null,
            "_model_module": "@jupyter-widgets/base",
            "top": null,
            "grid_column": null,
            "overflow_y": null,
            "overflow_x": null,
            "grid_auto_flow": null,
            "grid_area": null,
            "grid_template_columns": null,
            "flex": null,
            "_model_name": "LayoutModel",
            "justify_items": null,
            "grid_row": null,
            "max_height": null,
            "align_content": null,
            "visibility": null,
            "align_self": null,
            "height": null,
            "min_height": null,
            "padding": null,
            "grid_auto_rows": null,
            "grid_gap": null,
            "max_width": null,
            "order": null,
            "_view_module_version": "1.2.0",
            "grid_template_areas": null,
            "object_position": null,
            "object_fit": null,
            "grid_auto_columns": null,
            "margin": null,
            "display": null,
            "left": null
          }
        },
        "84188eb9b22c445581ea2e45d656da73": {
          "model_module": "@jupyter-widgets/controls",
          "model_name": "LabelModel",
          "state": {
            "_view_name": "LabelView",
            "style": "IPY_MODEL_dc5ceeaa25f5499eb50290e07312489a",
            "_dom_classes": [],
            "description": "",
            "_model_name": "LabelModel",
            "placeholder": "​",
            "_view_module": "@jupyter-widgets/controls",
            "_model_module_version": "1.5.0",
            "value": "Select your bear!",
            "_view_count": null,
            "_view_module_version": "1.5.0",
            "description_tooltip": null,
            "_model_module": "@jupyter-widgets/controls",
            "layout": "IPY_MODEL_07fffbefc877403f9be49901ad5b6641"
          }
        },
        "4d4cf1b692ec443999ea4af9b0ceec5d": {
          "model_module": "@jupyter-widgets/controls",
          "model_name": "FileUploadModel",
          "state": {
            "_view_name": "FileUploadView",
            "_counter": 0,
            "style": "IPY_MODEL_20dd484893114a6f8907a8bac25c436d",
            "_dom_classes": [],
            "description": "Upload",
            "multiple": false,
            "_model_name": "FileUploadModel",
            "data": [],
            "button_style": "",
            "_view_module": "@jupyter-widgets/controls",
            "_model_module_version": "1.5.0",
            "accept": "",
            "_view_count": null,
            "disabled": false,
            "_view_module_version": "1.5.0",
            "error": "",
            "description_tooltip": null,
            "metadata": [],
            "_model_module": "@jupyter-widgets/controls",
            "layout": "IPY_MODEL_850810ba13f34b09be4d3dcf22b8baf0",
            "icon": "upload"
          }
        },
        "dc5ceeaa25f5499eb50290e07312489a": {
          "model_module": "@jupyter-widgets/controls",
          "model_name": "DescriptionStyleModel",
          "state": {
            "_view_name": "StyleView",
            "_model_name": "DescriptionStyleModel",
            "description_width": "",
            "_view_module": "@jupyter-widgets/base",
            "_model_module_version": "1.5.0",
            "_view_count": null,
            "_view_module_version": "1.2.0",
            "_model_module": "@jupyter-widgets/controls"
          }
        },
        "07fffbefc877403f9be49901ad5b6641": {
          "model_module": "@jupyter-widgets/base",
          "model_name": "LayoutModel",
          "state": {
            "_view_name": "LayoutView",
            "grid_template_rows": null,
            "right": null,
            "justify_content": null,
            "_view_module": "@jupyter-widgets/base",
            "overflow": null,
            "_model_module_version": "1.2.0",
            "_view_count": null,
            "flex_flow": null,
            "width": null,
            "min_width": null,
            "border": null,
            "align_items": null,
            "bottom": null,
            "_model_module": "@jupyter-widgets/base",
            "top": null,
            "grid_column": null,
            "overflow_y": null,
            "overflow_x": null,
            "grid_auto_flow": null,
            "grid_area": null,
            "grid_template_columns": null,
            "flex": null,
            "_model_name": "LayoutModel",
            "justify_items": null,
            "grid_row": null,
            "max_height": null,
            "align_content": null,
            "visibility": null,
            "align_self": null,
            "height": null,
            "min_height": null,
            "padding": null,
            "grid_auto_rows": null,
            "grid_gap": null,
            "max_width": null,
            "order": null,
            "_view_module_version": "1.2.0",
            "grid_template_areas": null,
            "object_position": null,
            "object_fit": null,
            "grid_auto_columns": null,
            "margin": null,
            "display": null,
            "left": null
          }
        },
        "20dd484893114a6f8907a8bac25c436d": {
          "model_module": "@jupyter-widgets/controls",
          "model_name": "ButtonStyleModel",
          "state": {
            "_view_name": "StyleView",
            "_model_name": "ButtonStyleModel",
            "_view_module": "@jupyter-widgets/base",
            "_model_module_version": "1.5.0",
            "_view_count": null,
            "button_color": null,
            "font_weight": "",
            "_view_module_version": "1.2.0",
            "_model_module": "@jupyter-widgets/controls"
          }
        },
        "850810ba13f34b09be4d3dcf22b8baf0": {
          "model_module": "@jupyter-widgets/base",
          "model_name": "LayoutModel",
          "state": {
            "_view_name": "LayoutView",
            "grid_template_rows": null,
            "right": null,
            "justify_content": null,
            "_view_module": "@jupyter-widgets/base",
            "overflow": null,
            "_model_module_version": "1.2.0",
            "_view_count": null,
            "flex_flow": null,
            "width": null,
            "min_width": null,
            "border": null,
            "align_items": null,
            "bottom": null,
            "_model_module": "@jupyter-widgets/base",
            "top": null,
            "grid_column": null,
            "overflow_y": null,
            "overflow_x": null,
            "grid_auto_flow": null,
            "grid_area": null,
            "grid_template_columns": null,
            "flex": null,
            "_model_name": "LayoutModel",
            "justify_items": null,
            "grid_row": null,
            "max_height": null,
            "align_content": null,
            "visibility": null,
            "align_self": null,
            "height": null,
            "min_height": null,
            "padding": null,
            "grid_auto_rows": null,
            "grid_gap": null,
            "max_width": null,
            "order": null,
            "_view_module_version": "1.2.0",
            "grid_template_areas": null,
            "object_position": null,
            "object_fit": null,
            "grid_auto_columns": null,
            "margin": null,
            "display": null,
            "left": null
          }
        }
      }
    }
  },
  "cells": [
    {
      "cell_type": "code",
      "metadata": {
        "colab": {
          "base_uri": "https://localhost:8080/"
        },
        "id": "urGx1FuN1fMl",
        "outputId": "8c3be14e-39ab-451d-9a2f-0afa98461cf3"
      },
      "source": [
        "!pip install -Uqq fastbook\n",
        "import fastbook\n",
        "from fastbook import *\n",
        "from fastai.vision.widgets import *"
      ],
      "execution_count": 1,
      "outputs": [
        {
          "output_type": "stream",
          "text": [
            "\u001b[K     |████████████████████████████████| 727kB 11.0MB/s \n",
            "\u001b[K     |████████████████████████████████| 1.2MB 46.2MB/s \n",
            "\u001b[K     |████████████████████████████████| 51kB 7.8MB/s \n",
            "\u001b[K     |████████████████████████████████| 204kB 49.3MB/s \n",
            "\u001b[K     |████████████████████████████████| 61kB 10.1MB/s \n",
            "\u001b[K     |████████████████████████████████| 61kB 10.4MB/s \n",
            "\u001b[?25h"
          ],
          "name": "stdout"
        }
      ]
    },
    {
      "cell_type": "code",
      "metadata": {
        "id": "_tFDP-umyeCl"
      },
      "source": [
        "learn_inf = load_learner('raccoo_pickle.pkl')"
      ],
      "execution_count": 3,
      "outputs": []
    },
    {
      "cell_type": "code",
      "metadata": {
        "colab": {
          "base_uri": "https://localhost:8080/",
          "height": 48,
          "referenced_widgets": [
            "e9c33e3b64654232be6b544b1de14a06",
            "7259718f74cb486783453d1d5b3e0668",
            "d1d796221a194bfe8fa5ff279e1c4f42"
          ]
        },
        "id": "mch-FrKjyiRN",
        "outputId": "8d4a051c-de39-4aee-b40c-030734e27939"
      },
      "source": [
        "btn_upload = widgets.FileUpload()\n",
        "btn_upload"
      ],
      "execution_count": 4,
      "outputs": [
        {
          "output_type": "display_data",
          "data": {
            "application/vnd.jupyter.widget-view+json": {
              "model_id": "e9c33e3b64654232be6b544b1de14a06",
              "version_minor": 0,
              "version_major": 2
            },
            "text/plain": [
              "FileUpload(value={}, description='Upload')"
            ]
          },
          "metadata": {
            "tags": []
          }
        }
      ]
    },
    {
      "cell_type": "code",
      "metadata": {
        "colab": {
          "base_uri": "https://localhost:8080/",
          "height": 48,
          "referenced_widgets": [
            "e9c33e3b64654232be6b544b1de14a06",
            "7259718f74cb486783453d1d5b3e0668",
            "d1d796221a194bfe8fa5ff279e1c4f42"
          ]
        },
        "id": "0BJlLK3Hz5xy",
        "outputId": "22265f7e-8a0d-4ba2-d4a5-14ddb3d1816f"
      },
      "source": [
        "btn_upload"
      ],
      "execution_count": 5,
      "outputs": [
        {
          "output_type": "display_data",
          "data": {
            "application/vnd.jupyter.widget-view+json": {
              "model_id": "e9c33e3b64654232be6b544b1de14a06",
              "version_minor": 0,
              "version_major": 2
            },
            "text/plain": [
              "FileUpload(value={}, description='Upload')"
            ]
          },
          "metadata": {
            "tags": []
          }
        }
      ]
    },
    {
      "cell_type": "code",
      "metadata": {
        "id": "QywJnoVkz8K5"
      },
      "source": [
        "#hide\n",
        "# For the book, we can't actually click an upload button, so we fake it\n",
        "btn_upload = SimpleNamespace(data = ['/content/raccoon-1905528_1920.jpg'])"
      ],
      "execution_count": 8,
      "outputs": []
    },
    {
      "cell_type": "code",
      "metadata": {
        "id": "daBsqy2a1Ncw"
      },
      "source": [
        "img = PILImage.create(btn_upload.data[-1])"
      ],
      "execution_count": 9,
      "outputs": []
    },
    {
      "cell_type": "code",
      "metadata": {
        "colab": {
          "base_uri": "https://localhost:8080/",
          "height": 106,
          "referenced_widgets": [
            "3a3c06e4427a4f6d97a80855e7c1fb34",
            "890da8b5e8d6440cb3844d121eff95ba"
          ]
        },
        "id": "dU9NFvbl1NR-",
        "outputId": "930f1637-0319-46f2-df58-2f3dc2015dfd"
      },
      "source": [
        "out_pl = widgets.Output()\n",
        "out_pl.clear_output()\n",
        "with out_pl: display(img.to_thumb(128,128))\n",
        "out_pl"
      ],
      "execution_count": 10,
      "outputs": [
        {
          "output_type": "display_data",
          "data": {
            "application/vnd.jupyter.widget-view+json": {
              "model_id": "3a3c06e4427a4f6d97a80855e7c1fb34",
              "version_minor": 0,
              "version_major": 2
            },
            "text/plain": [
              "Output()"
            ]
          },
          "metadata": {
            "tags": []
          }
        }
      ]
    },
    {
      "cell_type": "code",
      "metadata": {
        "colab": {
          "base_uri": "https://localhost:8080/",
          "height": 17
        },
        "id": "KRTzQVMY1Qcp",
        "outputId": "432f6a79-cef6-4844-c425-f6d0513b0ed8"
      },
      "source": [
        "pred,pred_idx,probs = learn_inf.predict(img)"
      ],
      "execution_count": 11,
      "outputs": [
        {
          "output_type": "display_data",
          "data": {
            "text/html": [
              ""
            ],
            "text/plain": [
              "<IPython.core.display.HTML object>"
            ]
          },
          "metadata": {
            "tags": []
          }
        }
      ]
    },
    {
      "cell_type": "code",
      "metadata": {
        "colab": {
          "base_uri": "https://localhost:8080/",
          "height": 48,
          "referenced_widgets": [
            "7dd3c5a32b8e4a949c715aea4a480aca",
            "1a556654c1ee4bc79919846314e92b84",
            "bd5adaf5c02b4564a7282ef9b9035d30"
          ]
        },
        "id": "YloLNjXH1SCt",
        "outputId": "d7eceac3-6e74-4c17-c32c-e32bd8882c8e"
      },
      "source": [
        "lbl_pred = widgets.Label()\n",
        "lbl_pred.value = f'Prediction: {pred}; Probability: {probs[pred_idx]:.04f}'\n",
        "lbl_pred"
      ],
      "execution_count": 12,
      "outputs": [
        {
          "output_type": "display_data",
          "data": {
            "application/vnd.jupyter.widget-view+json": {
              "model_id": "7dd3c5a32b8e4a949c715aea4a480aca",
              "version_minor": 0,
              "version_major": 2
            },
            "text/plain": [
              "Label(value='Prediction: raccoon; Probability: 0.9996')"
            ]
          },
          "metadata": {
            "tags": []
          }
        }
      ]
    },
    {
      "cell_type": "code",
      "metadata": {
        "colab": {
          "base_uri": "https://localhost:8080/",
          "height": 48,
          "referenced_widgets": [
            "77a9428a7b5548a29a853ff48caab61a",
            "ea0b5e6f136f4ac7bea0ae626a85efb6",
            "16cfb4bce91042508e1f0ee231d1d628"
          ]
        },
        "id": "3oyPMQ4I1ThB",
        "outputId": "f5c42aaa-e4ab-44e7-a659-a5452613e959"
      },
      "source": [
        "btn_run = widgets.Button(description='Classify')\n",
        "btn_run"
      ],
      "execution_count": 13,
      "outputs": [
        {
          "output_type": "display_data",
          "data": {
            "application/vnd.jupyter.widget-view+json": {
              "model_id": "77a9428a7b5548a29a853ff48caab61a",
              "version_minor": 0,
              "version_major": 2
            },
            "text/plain": [
              "Button(description='Classify', style=ButtonStyle())"
            ]
          },
          "metadata": {
            "tags": []
          }
        }
      ]
    },
    {
      "cell_type": "code",
      "metadata": {
        "id": "aLsYcFWk1VB3"
      },
      "source": [
        "def on_click_classify(change):\n",
        "    img = PILImage.create(btn_upload.data[-1])\n",
        "    out_pl.clear_output()\n",
        "    with out_pl: display(img.to_thumb(128,128))\n",
        "    pred,pred_idx,probs = learn_inf.predict(img)\n",
        "    lbl_pred.value = f'Prediction: {pred}; Probability: {probs[pred_idx]:.04f}'\n",
        "\n",
        "btn_run.on_click(on_click_classify)"
      ],
      "execution_count": 14,
      "outputs": []
    },
    {
      "cell_type": "code",
      "metadata": {
        "id": "-4cGsrrL1WpI"
      },
      "source": [
        "#hide\n",
        "#Putting back btn_upload to a widget for next cell\n",
        "btn_upload = widgets.FileUpload()"
      ],
      "execution_count": 15,
      "outputs": []
    },
    {
      "cell_type": "code",
      "metadata": {
        "colab": {
          "base_uri": "https://localhost:8080/",
          "height": 233,
          "referenced_widgets": [
            "0a2b56fa78d94a4d995fe677698ab57c",
            "56c74727274d40e59b96d9e98ef57181",
            "84188eb9b22c445581ea2e45d656da73",
            "4d4cf1b692ec443999ea4af9b0ceec5d",
            "77a9428a7b5548a29a853ff48caab61a",
            "3a3c06e4427a4f6d97a80855e7c1fb34",
            "7dd3c5a32b8e4a949c715aea4a480aca",
            "dc5ceeaa25f5499eb50290e07312489a",
            "07fffbefc877403f9be49901ad5b6641",
            "20dd484893114a6f8907a8bac25c436d",
            "850810ba13f34b09be4d3dcf22b8baf0",
            "ea0b5e6f136f4ac7bea0ae626a85efb6",
            "16cfb4bce91042508e1f0ee231d1d628",
            "1a556654c1ee4bc79919846314e92b84",
            "bd5adaf5c02b4564a7282ef9b9035d30",
            "890da8b5e8d6440cb3844d121eff95ba"
          ]
        },
        "id": "I9dQ6PD31YOS",
        "outputId": "edab1032-c866-49a5-e045-f70ae3e06673"
      },
      "source": [
        "VBox([widgets.Label('Select your bear!'), \n",
        "      btn_upload, btn_run, out_pl, lbl_pred])"
      ],
      "execution_count": 16,
      "outputs": [
        {
          "output_type": "display_data",
          "data": {
            "application/vnd.jupyter.widget-view+json": {
              "model_id": "0a2b56fa78d94a4d995fe677698ab57c",
              "version_minor": 0,
              "version_major": 2
            },
            "text/plain": [
              "VBox(children=(Label(value='Select your bear!'), FileUpload(value={}, description='Upload'), Button(descriptio…"
            ]
          },
          "metadata": {
            "tags": []
          }
        }
      ]
    },
    {
      "cell_type": "code",
      "metadata": {
        "colab": {
          "base_uri": "https://localhost:8080/",
          "height": 1000
        },
        "id": "qv_KV2Dg1eER",
        "outputId": "87bc082e-7783-4423-f537-6bcedc1ab4cc"
      },
      "source": [
        "#hide\n",
        "!pip install voila\n",
        "!jupyter serverextension enable --sys-prefix voila "
      ],
      "execution_count": 17,
      "outputs": [
        {
          "output_type": "stream",
          "text": [
            "Collecting voila\n",
            "\u001b[?25l  Downloading https://files.pythonhosted.org/packages/5d/35/cf7d765edd2b48838ac69ff0435cec594bdd8a44329fb21a86a6d7e4c584/voila-0.2.10-py3-none-any.whl (1.6MB)\n",
            "\u001b[K     |████████████████████████████████| 1.6MB 8.3MB/s \n",
            "\u001b[?25hCollecting jupyter-client<7,>=6.1.3\n",
            "\u001b[?25l  Downloading https://files.pythonhosted.org/packages/77/e8/c3cf72a32a697256608d5fa96360c431adec6e1c6709ba7f13f99ff5ee04/jupyter_client-6.1.12-py3-none-any.whl (112kB)\n",
            "\u001b[K     |████████████████████████████████| 122kB 56.9MB/s \n",
            "\u001b[?25hCollecting nbconvert<7,>=6.0.0\n",
            "\u001b[?25l  Downloading https://files.pythonhosted.org/packages/13/2f/acbe7006548f3914456ee47f97a2033b1b2f3daf921b12ac94105d87c163/nbconvert-6.0.7-py3-none-any.whl (552kB)\n",
            "\u001b[K     |████████████████████████████████| 552kB 46.4MB/s \n",
            "\u001b[?25hRequirement already satisfied: nbclient<0.6,>=0.4.0 in /usr/local/lib/python3.7/dist-packages (from voila) (0.5.3)\n",
            "Collecting jupyter-server<2.0.0,>=0.3.0\n",
            "\u001b[?25l  Downloading https://files.pythonhosted.org/packages/b7/58/8a69c6badaf74daf9aaf690a9839004ac3b78633189d0d0feab11669b751/jupyter_server-1.8.0-py3-none-any.whl (382kB)\n",
            "\u001b[K     |████████████████████████████████| 389kB 47.6MB/s \n",
            "\u001b[?25hRequirement already satisfied: traitlets in /usr/local/lib/python3.7/dist-packages (from jupyter-client<7,>=6.1.3->voila) (5.0.5)\n",
            "Requirement already satisfied: jupyter-core>=4.6.0 in /usr/local/lib/python3.7/dist-packages (from jupyter-client<7,>=6.1.3->voila) (4.7.1)\n",
            "Requirement already satisfied: python-dateutil>=2.1 in /usr/local/lib/python3.7/dist-packages (from jupyter-client<7,>=6.1.3->voila) (2.8.1)\n",
            "Requirement already satisfied: pyzmq>=13 in /usr/local/lib/python3.7/dist-packages (from jupyter-client<7,>=6.1.3->voila) (22.0.3)\n",
            "Requirement already satisfied: tornado>=4.1 in /usr/local/lib/python3.7/dist-packages (from jupyter-client<7,>=6.1.3->voila) (5.1.1)\n",
            "Requirement already satisfied: entrypoints>=0.2.2 in /usr/local/lib/python3.7/dist-packages (from nbconvert<7,>=6.0.0->voila) (0.3)\n",
            "Requirement already satisfied: defusedxml in /usr/local/lib/python3.7/dist-packages (from nbconvert<7,>=6.0.0->voila) (0.7.1)\n",
            "Requirement already satisfied: mistune<2,>=0.8.1 in /usr/local/lib/python3.7/dist-packages (from nbconvert<7,>=6.0.0->voila) (0.8.4)\n",
            "Requirement already satisfied: jupyterlab-pygments in /usr/local/lib/python3.7/dist-packages (from nbconvert<7,>=6.0.0->voila) (0.1.2)\n",
            "Requirement already satisfied: testpath in /usr/local/lib/python3.7/dist-packages (from nbconvert<7,>=6.0.0->voila) (0.5.0)\n",
            "Requirement already satisfied: jinja2>=2.4 in /usr/local/lib/python3.7/dist-packages (from nbconvert<7,>=6.0.0->voila) (2.11.3)\n",
            "Requirement already satisfied: pygments>=2.4.1 in /usr/local/lib/python3.7/dist-packages (from nbconvert<7,>=6.0.0->voila) (2.6.1)\n",
            "Requirement already satisfied: bleach in /usr/local/lib/python3.7/dist-packages (from nbconvert<7,>=6.0.0->voila) (3.3.0)\n",
            "Requirement already satisfied: pandocfilters>=1.4.1 in /usr/local/lib/python3.7/dist-packages (from nbconvert<7,>=6.0.0->voila) (1.4.3)\n",
            "Requirement already satisfied: nbformat>=4.4 in /usr/local/lib/python3.7/dist-packages (from nbconvert<7,>=6.0.0->voila) (5.1.3)\n",
            "Requirement already satisfied: async-generator in /usr/local/lib/python3.7/dist-packages (from nbclient<0.6,>=0.4.0->voila) (1.10)\n",
            "Requirement already satisfied: nest-asyncio in /usr/local/lib/python3.7/dist-packages (from nbclient<0.6,>=0.4.0->voila) (1.5.1)\n",
            "Requirement already satisfied: ipython-genutils in /usr/local/lib/python3.7/dist-packages (from jupyter-server<2.0.0,>=0.3.0->voila) (0.2.0)\n",
            "Requirement already satisfied: prometheus-client in /usr/local/lib/python3.7/dist-packages (from jupyter-server<2.0.0,>=0.3.0->voila) (0.10.1)\n",
            "Collecting anyio<4,>=3.1.0\n",
            "\u001b[?25l  Downloading https://files.pythonhosted.org/packages/72/47/0c30d51c30d23eecead360e8624ad3972ebd8f9933265a91fca1372d37cf/anyio-3.1.0-py3-none-any.whl (74kB)\n",
            "\u001b[K     |████████████████████████████████| 81kB 10.5MB/s \n",
            "\u001b[?25hRequirement already satisfied: argon2-cffi in /usr/local/lib/python3.7/dist-packages (from jupyter-server<2.0.0,>=0.3.0->voila) (20.1.0)\n",
            "Requirement already satisfied: terminado>=0.8.3 in /usr/local/lib/python3.7/dist-packages (from jupyter-server<2.0.0,>=0.3.0->voila) (0.10.0)\n",
            "Requirement already satisfied: Send2Trash in /usr/local/lib/python3.7/dist-packages (from jupyter-server<2.0.0,>=0.3.0->voila) (1.5.0)\n",
            "Collecting websocket-client\n",
            "\u001b[?25l  Downloading https://files.pythonhosted.org/packages/85/ee/7aa724dc2dbed9b028f463eada5482770c13b7381a0c79457d12b3b62de2/websocket_client-1.0.1-py2.py3-none-any.whl (68kB)\n",
            "\u001b[K     |████████████████████████████████| 71kB 9.4MB/s \n",
            "\u001b[?25hRequirement already satisfied: six>=1.5 in /usr/local/lib/python3.7/dist-packages (from python-dateutil>=2.1->jupyter-client<7,>=6.1.3->voila) (1.15.0)\n",
            "Requirement already satisfied: MarkupSafe>=0.23 in /usr/local/lib/python3.7/dist-packages (from jinja2>=2.4->nbconvert<7,>=6.0.0->voila) (2.0.1)\n",
            "Requirement already satisfied: webencodings in /usr/local/lib/python3.7/dist-packages (from bleach->nbconvert<7,>=6.0.0->voila) (0.5.1)\n",
            "Requirement already satisfied: packaging in /usr/local/lib/python3.7/dist-packages (from bleach->nbconvert<7,>=6.0.0->voila) (20.9)\n",
            "Requirement already satisfied: jsonschema!=2.5.0,>=2.4 in /usr/local/lib/python3.7/dist-packages (from nbformat>=4.4->nbconvert<7,>=6.0.0->voila) (2.6.0)\n",
            "Collecting sniffio>=1.1\n",
            "  Downloading https://files.pythonhosted.org/packages/52/b0/7b2e028b63d092804b6794595871f936aafa5e9322dcaaad50ebf67445b3/sniffio-1.2.0-py3-none-any.whl\n",
            "Requirement already satisfied: typing-extensions; python_version < \"3.8\" in /usr/local/lib/python3.7/dist-packages (from anyio<4,>=3.1.0->jupyter-server<2.0.0,>=0.3.0->voila) (3.7.4.3)\n",
            "Requirement already satisfied: idna>=2.8 in /usr/local/lib/python3.7/dist-packages (from anyio<4,>=3.1.0->jupyter-server<2.0.0,>=0.3.0->voila) (2.10)\n",
            "Requirement already satisfied: cffi>=1.0.0 in /usr/local/lib/python3.7/dist-packages (from argon2-cffi->jupyter-server<2.0.0,>=0.3.0->voila) (1.14.5)\n",
            "Requirement already satisfied: ptyprocess; os_name != \"nt\" in /usr/local/lib/python3.7/dist-packages (from terminado>=0.8.3->jupyter-server<2.0.0,>=0.3.0->voila) (0.7.0)\n",
            "Requirement already satisfied: pyparsing>=2.0.2 in /usr/local/lib/python3.7/dist-packages (from packaging->bleach->nbconvert<7,>=6.0.0->voila) (2.4.7)\n",
            "Requirement already satisfied: pycparser in /usr/local/lib/python3.7/dist-packages (from cffi>=1.0.0->argon2-cffi->jupyter-server<2.0.0,>=0.3.0->voila) (2.20)\n",
            "\u001b[31mERROR: nbdev 1.1.14 has requirement nbconvert<6, but you'll have nbconvert 6.0.7 which is incompatible.\u001b[0m\n",
            "\u001b[31mERROR: jupyter-server 1.8.0 has requirement tornado>=6.1.0, but you'll have tornado 5.1.1 which is incompatible.\u001b[0m\n",
            "Installing collected packages: jupyter-client, nbconvert, sniffio, anyio, websocket-client, jupyter-server, voila\n",
            "  Found existing installation: jupyter-client 5.3.5\n",
            "    Uninstalling jupyter-client-5.3.5:\n",
            "      Successfully uninstalled jupyter-client-5.3.5\n",
            "  Found existing installation: nbconvert 5.6.1\n",
            "    Uninstalling nbconvert-5.6.1:\n",
            "      Successfully uninstalled nbconvert-5.6.1\n",
            "Successfully installed anyio-3.1.0 jupyter-client-6.1.12 jupyter-server-1.8.0 nbconvert-6.0.7 sniffio-1.2.0 voila-0.2.10 websocket-client-1.0.1\n"
          ],
          "name": "stdout"
        },
        {
          "output_type": "display_data",
          "data": {
            "application/vnd.colab-display-data+json": {
              "pip_warning": {
                "packages": [
                  "jupyter_client",
                  "nbconvert"
                ]
              }
            }
          },
          "metadata": {
            "tags": []
          }
        },
        {
          "output_type": "stream",
          "text": [
            "Enabling: voila\n",
            "- Writing config: /usr/etc/jupyter\n",
            "    - Validating...\n",
            "Error loading server extension voila\n",
            "     \u001b[31m X\u001b[0m is voila importable?\n"
          ],
          "name": "stdout"
        }
      ]
    },
    {
      "cell_type": "code",
      "metadata": {
        "colab": {
          "base_uri": "https://localhost:8080/"
        },
        "id": "fzSaYY-w4HVt",
        "outputId": "5bd24728-e4aa-4363-e612-7b7ea7ef49bf"
      },
      "source": [
        ""
      ],
      "execution_count": 18,
      "outputs": [
        {
          "output_type": "stream",
          "text": [
            "Initialized empty Git repository in /content/.git/\n",
            "\n",
            "*** Please tell me who you are.\n",
            "\n",
            "Run\n",
            "\n",
            "  git config --global user.email \"you@example.com\"\n",
            "  git config --global user.name \"Your Name\"\n",
            "\n",
            "to set your account's default identity.\n",
            "Omit --global to set the identity only in this repository.\n",
            "\n",
            "fatal: unable to auto-detect email address (got 'root@af5b0163b094.(none)')\n",
            "error: refname refs/heads/master not found\n",
            "fatal: Branch rename failed\n",
            "error: src refspec main does not match any.\n",
            "error: failed to push some refs to 'https://github.com/HorriganJP/raccoon_ml.git'\n"
          ],
          "name": "stdout"
        }
      ]
    },
    {
      "cell_type": "code",
      "metadata": {
        "id": "AGuB4xSq4Jrs"
      },
      "source": [
        ""
      ],
      "execution_count": null,
      "outputs": []
    }
  ]
}